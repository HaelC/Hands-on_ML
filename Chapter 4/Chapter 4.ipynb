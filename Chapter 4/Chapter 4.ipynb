{
 "cells": [
  {
   "cell_type": "markdown",
   "metadata": {},
   "source": [
    "## Linear Regression\n",
    "\n",
    "A linear model makes a prediction by simply computing a weighted sum of the input features, plus a constant called the *bias term* (also called the *intercept term*).\n",
    "\n",
    "$$\\hat{y}=\\theta_0+\\theta_1x_1+\\theta_2x_2+...+\\theta_nx_n$$\n",
    "\n",
    "- $\\hat{y}$ is the predicted value\n",
    "- $n$ is the number of features\n",
    "- $x_i$ is the $\\text{i}^{th}$ feature value\n",
    "- $\\theta_j$ is the $\\text{j}^{th}$ model parameter (including the bias term $\\theta_0$ and the feature weights $\\theta_1,\\theta_2,...,\\theta_n$)"
   ]
  },
  {
   "cell_type": "markdown",
   "metadata": {},
   "source": [
    "Or in a more consice way: vectorized form\n",
    "$$\\hat{y}=h_\\theta(\\textbf{x})=\\theta^T\\cdot \\textbf{x}$$\n",
    "\n",
    "- $\\theta$ is the model's parameter vector (a colomn vector), containing the bias term $\\theta_0$ and the feature weights $\\theta_1$ to $\\theta_n$\n",
    "- $\\theta^T$ is the transpose of $\\theta$ (a row vector)\n",
    "- $\\textbf{x}$ is the instance's feature vector, containing $x_0$ to $x_n$, with $x_0$ always equal to 1\n",
    "- $\\theta^T\\cdot x$ is the dot product of $\\theta^T$ and $\\textbf{x}$\n",
    "- $h_\\theta$ is the hypothesis function, using the model parameters $\\theta$"
   ]
  },
  {
   "cell_type": "markdown",
   "metadata": {},
   "source": [
    "**MSE cost function**\n",
    "$$MSE(\\theta)=\\frac{1}{m}\\sum_{i=1}^m(\\theta^T\\cdot \\textbf{x}^{(i)}-y^{(i)})^2$$\n",
    "\n",
    "Compared with RMSE(root mean square error), it is simpler to minimize the mean square error (much easier to compute the gradient)."
   ]
  },
  {
   "cell_type": "markdown",
   "metadata": {},
   "source": [
    "### Normal Equation\n"
   ]
  }
 ],
 "metadata": {
  "kernelspec": {
   "display_name": "Python 3",
   "language": "python",
   "name": "python3"
  },
  "language_info": {
   "codemirror_mode": {
    "name": "ipython",
    "version": 3
   },
   "file_extension": ".py",
   "mimetype": "text/x-python",
   "name": "python",
   "nbconvert_exporter": "python",
   "pygments_lexer": "ipython3",
   "version": "3.6.3"
  }
 },
 "nbformat": 4,
 "nbformat_minor": 2
}

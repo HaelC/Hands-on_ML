{
 "cells": [
  {
   "cell_type": "markdown",
   "metadata": {},
   "source": [
    "# Chapter 2"
   ]
  },
  {
   "cell_type": "markdown",
   "metadata": {},
   "source": [
    "## Notations\n",
    "- $m$ is the number of instances in the dataset \n",
    "- $\\textbf{x}^{(i)}$ is a vector of all the feature values (excluding the label) of the $i^{th}$ instance in the dataset, and $y^{(i)}$ is its label (the desired output value for that instance).\n",
    "- $\\textbf{X}$ is a matrix containing all the feature values (excluding labels) of all instances in the dataset. There is one row per instance and the $i^{th}$ row is equal to the transpose of $\\textbf{x}^{(i)}$, noted $(\\textbf{x}^{(i)})^T$\n",
    "- $h$ is prediction function, also called a *hypothesis*.\n",
    "- $\\hat{y}$ is the predicted value. $\\hat{y}^{(i)}=h(\\textbf{x}^{(i)})$\n",
    "\n",
    "We use lowercase italic font for scalar values (such as $m$ or $y^{(i)}$) and function names (such as $h$), lowercase bold font for vectors (such as $\\textbf{x}^{(i)}$), and uppercase bold font for matrices (such as $\\textbf{X}$)"
   ]
  },
  {
   "cell_type": "markdown",
   "metadata": {},
   "source": [
    "## Measurements\n",
    "### RMSE (Root Mean Square Error)  \n",
    "It measures the standard deviation of the errors the system makes in its predictions.\n",
    "$$\\text{RMSE(}\\textbf{X}, h)=\\sqrt{\\frac{1}{m}\\sum_{i=1}^m(h(\\textbf{x}^{(i)})-y^{(i)})^2}$$\n",
    "\n",
    "### MAE (Mean Absolute Error)\n",
    "$$\\text{MAE(}\\textbf{X},h)=\\frac{1}{m}\\sum_{i=1}^m|h(\\textbf{x}^{(i)}-y^{(i)}|$$\n",
    "\n",
    "### Distance measures\n",
    "Various distance measures, or *norms*, between two vectors: the vector of predictions and the vector of target values.  \n",
    "$\\ell_2\\ norm$, noted $||\\cdot||_2$ (or just $||\\cdot||$), known as the *Euclidian norm* as well.  \n",
    "$\\ell_1\\ norm$, noted $||\\cdot||_1$, sometimes called the *Manhattan norm*.  \n",
    "More generally, the $\\ell_k\\ norm$ of a vector $\\textbf{v}$ containing $n$ elements is defined as $||\\textbf{v}||_k=(|v_0|^k+|v_1|^k+...+|v_n|^k)^{\\frac{1}{k}}$. $\\ell_0$ just gives the cardinality of the vector (i.e., the number of elements), and $\\ell_\\infty$ just gives the maximum absolute value in the vector."
   ]
  },
  {
   "cell_type": "markdown",
   "metadata": {},
   "source": [
    "## Modules and dependencies\n",
    "  \n",
    "\n",
    "```\n",
    "$ pip3 install --upgrade jupyter matplotlib numpy pandas scipy scikit-learn\n",
    "```\n",
    "\n",
    "### Jupyter\n",
    "[Documentation](https://jupyter.readthedocs.io/en/latest/)\n",
    "\n",
    "### Matplotlib\n",
    "[Documentation](https://matplotlib.org)\n",
    "\n",
    "### NumPy\n",
    "[User Guide](https://docs.scipy.org/doc/numpy/user/index.html#user)\n",
    "\n",
    "### Pandas\n",
    "[Documentation](http://pandas.pydata.org/pandas-docs/stable/)\n",
    "\n",
    "### SciPy\n",
    "[Documentation](http://docs.scipy.org/doc/scipy/reference/)\n",
    "\n",
    "### Scikit learn\n",
    "[Documentation](http://scikit-learn.org/stable/documentation.html)\n",
    "\n"
   ]
  },
  {
   "cell_type": "code",
   "execution_count": null,
   "metadata": {},
   "outputs": [],
   "source": []
  }
 ],
 "metadata": {
  "kernelspec": {
   "display_name": "Python 3",
   "language": "python",
   "name": "python3"
  },
  "language_info": {
   "codemirror_mode": {
    "name": "ipython",
    "version": 3
   },
   "file_extension": ".py",
   "mimetype": "text/x-python",
   "name": "python",
   "nbconvert_exporter": "python",
   "pygments_lexer": "ipython3",
   "version": "3.6.3"
  }
 },
 "nbformat": 4,
 "nbformat_minor": 2
}

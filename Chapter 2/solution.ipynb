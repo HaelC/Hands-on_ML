{
 "cells": [
  {
   "cell_type": "code",
   "execution_count": 1,
   "metadata": {},
   "outputs": [],
   "source": [
    "# Preliminaries\n",
    "# Data preparation\n",
    "\n",
    "import os\n",
    "import pandas as pd\n",
    "import numpy as np\n",
    "\n",
    "HOUSING_PATH = \"datasets/housing\"\n",
    "\n",
    "def load_housing_data(housing_path=HOUSING_PATH):\n",
    "    csv_path = os.path.join(housing_path, \"housing.csv\")\n",
    "    return pd.read_csv(csv_path)\n",
    "  \n",
    "housing = load_housing_data()\n",
    "\n",
    "housing[\"income_cat\"] = np.ceil(housing[\"median_income\"] / 1.5)\n",
    "housing[\"income_cat\"].where(housing[\"income_cat\"] < 5, 5.0, inplace=True)\n",
    "\n",
    "from sklearn.model_selection import StratifiedShuffleSplit\n",
    "\n",
    "split = StratifiedShuffleSplit(n_splits=1, test_size=0.2, random_state=42)\n",
    "for train_index, test_index in split.split(housing, housing[\"income_cat\"]):\n",
    "    strat_train_set = housing.loc[train_index]\n",
    "    strat_test_set = housing.loc[test_index]\n",
    "    \n",
    "for set_ in (strat_train_set, strat_test_set):\n",
    "    set_.drop([\"income_cat\"], axis=1, inplace=True)\n",
    "    \n",
    "housing = strat_train_set.drop(\"median_house_value\", axis=1)\n",
    "housing_labels = strat_train_set[\"median_house_value\"].copy()\n",
    "\n",
    "housing_num = housing.drop(\"ocean_proximity\", axis=1)\n",
    "\n",
    "from sklearn.preprocessing import Imputer\n",
    "from future_encoders import OneHotEncoder\n",
    "\n",
    "from sklearn.base import BaseEstimator, TransformerMixin\n",
    "\n",
    "# column index\n",
    "rooms_ix, bedrooms_ix, population_ix, household_ix = 3, 4, 5, 6\n",
    "\n",
    "class CombinedAttributesAdder(BaseEstimator, TransformerMixin):\n",
    "    def __init__(self, add_bedrooms_per_room = True): # no *args or **kargs\n",
    "        self.add_bedrooms_per_room = add_bedrooms_per_room\n",
    "    def fit(self, X, y=None):\n",
    "        return self  # nothing else to do\n",
    "    def transform(self, X, y=None):\n",
    "        rooms_per_household = X[:, rooms_ix] / X[:, household_ix]\n",
    "        population_per_household = X[:, population_ix] / X[:, household_ix]\n",
    "        if self.add_bedrooms_per_room:\n",
    "            bedrooms_per_room = X[:, bedrooms_ix] / X[:, rooms_ix]\n",
    "            return np.c_[X, rooms_per_household, population_per_household,\n",
    "                         bedrooms_per_room]\n",
    "        else:\n",
    "            return np.c_[X, rooms_per_household, population_per_household]\n",
    "\n",
    "attr_adder = CombinedAttributesAdder(add_bedrooms_per_room=False)\n",
    "housing_extra_attribs = attr_adder.transform(housing.values)\n",
    "\n",
    "from sklearn.pipeline import Pipeline\n",
    "from sklearn.preprocessing import StandardScaler\n",
    "num_pipeline = Pipeline([\n",
    "    ('imputer', Imputer(strategy=\"median\")),\n",
    "    ('attribs_adder', CombinedAttributesAdder()),\n",
    "    ('std_scaler', StandardScaler())\n",
    "])\n",
    "housing_num_tr = num_pipeline.fit_transform(housing_num)\n",
    "\n",
    "\n",
    "from future_encoders import ColumnTransformer\n",
    "num_attribs = list(housing_num)\n",
    "cat_attribs = [\"ocean_proximity\"]\n",
    "\n",
    "full_pipeline = ColumnTransformer([\n",
    "        (\"num\", num_pipeline, num_attribs),\n",
    "        (\"cat\", OneHotEncoder(), cat_attribs)\n",
    "])\n",
    "\n",
    "housing_prepared = full_pipeline.fit_transform(housing)"
   ]
  },
  {
   "cell_type": "markdown",
   "metadata": {},
   "source": [
    "### 1.Try a Support Vector Machine regressor (`sklearn.svm.SVR`), with various hyperparameters such as `kernel=\"linear\"` (with various values for the `C` hyperparameter) or `kernel=\"rbf\"` (with various values for the `C` and `gamma` hyperparameters). Don’t worry about what these hyperparameters mean for now. How does the best `SVR` predictor perform?"
   ]
  },
  {
   "cell_type": "code",
   "execution_count": 3,
   "metadata": {},
   "outputs": [
    {
     "data": {
      "text/plain": [
       "SVR(C=1.0, cache_size=200, coef0=0.0, degree=3, epsilon=0.1, gamma='auto',\n",
       "  kernel='linear', max_iter=-1, shrinking=True, tol=0.001, verbose=False)"
      ]
     },
     "execution_count": 3,
     "metadata": {},
     "output_type": "execute_result"
    }
   ],
   "source": [
    "from sklearn.svm import SVR\n",
    "\n",
    "# default SVM with linear kernel\n",
    "svm_reg = SVR(kernel=\"linear\")\n",
    "svm_reg.fit(housing_prepared, housing_labels)"
   ]
  },
  {
   "cell_type": "code",
   "execution_count": 4,
   "metadata": {},
   "outputs": [
    {
     "data": {
      "text/plain": [
       "111094.6308539982"
      ]
     },
     "execution_count": 4,
     "metadata": {},
     "output_type": "execute_result"
    }
   ],
   "source": [
    "housing_predictions = svm_reg.predict(housing_prepared)\n",
    "svm_mse = mean_squared_error(housing_labels, housing_predictions)\n",
    "svm_rmse = np.sqrt(svm_mse)\n",
    "svm_rmse"
   ]
  },
  {
   "cell_type": "code",
   "execution_count": 15,
   "metadata": {},
   "outputs": [
    {
     "data": {
      "text/plain": [
       "GridSearchCV(cv=5, error_score='raise',\n",
       "       estimator=SVR(C=1.0, cache_size=200, coef0=0.0, degree=3, epsilon=0.1, gamma='auto',\n",
       "  kernel='rbf', max_iter=-1, shrinking=True, tol=0.001, verbose=False),\n",
       "       fit_params=None, iid=True, n_jobs=1,\n",
       "       param_grid=[{'kernel': ['linear'], 'C': [1, 3, 10, 30, 100, 300, 1000, 3000, 10000, 30000]}],\n",
       "       pre_dispatch='2*n_jobs', refit=True, return_train_score='warn',\n",
       "       scoring='neg_mean_squared_error', verbose=0)"
      ]
     },
     "execution_count": 15,
     "metadata": {},
     "output_type": "execute_result"
    }
   ],
   "source": [
    "param_grid = [\n",
    "    {'kernel': ['linear'], 'C': [1, 3, 10, 30, 100, 300, 1000, 3000, 10000, 30000]}\n",
    "]\n",
    "\n",
    "svm_reg = SVR()\n",
    "grid_search = GridSearchCV(svm_reg, param_grid, cv=5, scoring='neg_mean_squared_error')\n",
    "grid_search.fit(housing_prepared, housing_labels)"
   ]
  },
  {
   "cell_type": "code",
   "execution_count": 13,
   "metadata": {},
   "outputs": [
    {
     "data": {
      "text/plain": [
       "{'C': 30000.0, 'kernel': 'linear'}"
      ]
     },
     "execution_count": 13,
     "metadata": {},
     "output_type": "execute_result"
    }
   ],
   "source": [
    "grid_search.best_params_"
   ]
  },
  {
   "cell_type": "code",
   "execution_count": 14,
   "metadata": {},
   "outputs": [
    {
     "data": {
      "text/plain": [
       "70363.90313964167"
      ]
     },
     "execution_count": 14,
     "metadata": {},
     "output_type": "execute_result"
    }
   ],
   "source": [
    "np.sqrt(-grid_search.best_score_)"
   ]
  },
  {
   "cell_type": "code",
   "execution_count": 16,
   "metadata": {},
   "outputs": [
    {
     "ename": "KeyboardInterrupt",
     "evalue": "",
     "output_type": "error",
     "traceback": [
      "\u001b[0;31m---------------------------------------------------------------------------\u001b[0m",
      "\u001b[0;31mKeyboardInterrupt\u001b[0m                         Traceback (most recent call last)",
      "\u001b[0;32m<ipython-input-16-bfb0647a2dbb>\u001b[0m in \u001b[0;36m<module>\u001b[0;34m()\u001b[0m\n\u001b[1;32m      6\u001b[0m \u001b[0msvm_reg\u001b[0m \u001b[0;34m=\u001b[0m \u001b[0mSVR\u001b[0m\u001b[0;34m(\u001b[0m\u001b[0;34m)\u001b[0m\u001b[0;34m\u001b[0m\u001b[0m\n\u001b[1;32m      7\u001b[0m \u001b[0mgrid_search\u001b[0m \u001b[0;34m=\u001b[0m \u001b[0mGridSearchCV\u001b[0m\u001b[0;34m(\u001b[0m\u001b[0msvm_reg\u001b[0m\u001b[0;34m,\u001b[0m \u001b[0mparam_grid\u001b[0m\u001b[0;34m,\u001b[0m \u001b[0mcv\u001b[0m\u001b[0;34m=\u001b[0m\u001b[0;36m5\u001b[0m\u001b[0;34m,\u001b[0m \u001b[0mscoring\u001b[0m\u001b[0;34m=\u001b[0m\u001b[0;34m'neg_mean_squared_error'\u001b[0m\u001b[0;34m)\u001b[0m\u001b[0;34m\u001b[0m\u001b[0m\n\u001b[0;32m----> 8\u001b[0;31m \u001b[0mgrid_search\u001b[0m\u001b[0;34m.\u001b[0m\u001b[0mfit\u001b[0m\u001b[0;34m(\u001b[0m\u001b[0mhousing_prepared\u001b[0m\u001b[0;34m,\u001b[0m \u001b[0mhousing_labels\u001b[0m\u001b[0;34m)\u001b[0m\u001b[0;34m\u001b[0m\u001b[0m\n\u001b[0m",
      "\u001b[0;32m/usr/local/Cellar/python3/3.6.3/Frameworks/Python.framework/Versions/3.6/lib/python3.6/site-packages/sklearn/model_selection/_search.py\u001b[0m in \u001b[0;36mfit\u001b[0;34m(self, X, y, groups, **fit_params)\u001b[0m\n\u001b[1;32m    638\u001b[0m                                   error_score=self.error_score)\n\u001b[1;32m    639\u001b[0m           for parameters, (train, test) in product(candidate_params,\n\u001b[0;32m--> 640\u001b[0;31m                                                    cv.split(X, y, groups)))\n\u001b[0m\u001b[1;32m    641\u001b[0m \u001b[0;34m\u001b[0m\u001b[0m\n\u001b[1;32m    642\u001b[0m         \u001b[0;31m# if one choose to see train score, \"out\" will contain train score info\u001b[0m\u001b[0;34m\u001b[0m\u001b[0;34m\u001b[0m\u001b[0m\n",
      "\u001b[0;32m/usr/local/Cellar/python3/3.6.3/Frameworks/Python.framework/Versions/3.6/lib/python3.6/site-packages/sklearn/externals/joblib/parallel.py\u001b[0m in \u001b[0;36m__call__\u001b[0;34m(self, iterable)\u001b[0m\n\u001b[1;32m    777\u001b[0m             \u001b[0;31m# was dispatched. In particular this covers the edge\u001b[0m\u001b[0;34m\u001b[0m\u001b[0;34m\u001b[0m\u001b[0m\n\u001b[1;32m    778\u001b[0m             \u001b[0;31m# case of Parallel used with an exhausted iterator.\u001b[0m\u001b[0;34m\u001b[0m\u001b[0;34m\u001b[0m\u001b[0m\n\u001b[0;32m--> 779\u001b[0;31m             \u001b[0;32mwhile\u001b[0m \u001b[0mself\u001b[0m\u001b[0;34m.\u001b[0m\u001b[0mdispatch_one_batch\u001b[0m\u001b[0;34m(\u001b[0m\u001b[0miterator\u001b[0m\u001b[0;34m)\u001b[0m\u001b[0;34m:\u001b[0m\u001b[0;34m\u001b[0m\u001b[0m\n\u001b[0m\u001b[1;32m    780\u001b[0m                 \u001b[0mself\u001b[0m\u001b[0;34m.\u001b[0m\u001b[0m_iterating\u001b[0m \u001b[0;34m=\u001b[0m \u001b[0;32mTrue\u001b[0m\u001b[0;34m\u001b[0m\u001b[0m\n\u001b[1;32m    781\u001b[0m             \u001b[0;32melse\u001b[0m\u001b[0;34m:\u001b[0m\u001b[0;34m\u001b[0m\u001b[0m\n",
      "\u001b[0;32m/usr/local/Cellar/python3/3.6.3/Frameworks/Python.framework/Versions/3.6/lib/python3.6/site-packages/sklearn/externals/joblib/parallel.py\u001b[0m in \u001b[0;36mdispatch_one_batch\u001b[0;34m(self, iterator)\u001b[0m\n\u001b[1;32m    623\u001b[0m                 \u001b[0;32mreturn\u001b[0m \u001b[0;32mFalse\u001b[0m\u001b[0;34m\u001b[0m\u001b[0m\n\u001b[1;32m    624\u001b[0m             \u001b[0;32melse\u001b[0m\u001b[0;34m:\u001b[0m\u001b[0;34m\u001b[0m\u001b[0m\n\u001b[0;32m--> 625\u001b[0;31m                 \u001b[0mself\u001b[0m\u001b[0;34m.\u001b[0m\u001b[0m_dispatch\u001b[0m\u001b[0;34m(\u001b[0m\u001b[0mtasks\u001b[0m\u001b[0;34m)\u001b[0m\u001b[0;34m\u001b[0m\u001b[0m\n\u001b[0m\u001b[1;32m    626\u001b[0m                 \u001b[0;32mreturn\u001b[0m \u001b[0;32mTrue\u001b[0m\u001b[0;34m\u001b[0m\u001b[0m\n\u001b[1;32m    627\u001b[0m \u001b[0;34m\u001b[0m\u001b[0m\n",
      "\u001b[0;32m/usr/local/Cellar/python3/3.6.3/Frameworks/Python.framework/Versions/3.6/lib/python3.6/site-packages/sklearn/externals/joblib/parallel.py\u001b[0m in \u001b[0;36m_dispatch\u001b[0;34m(self, batch)\u001b[0m\n\u001b[1;32m    586\u001b[0m         \u001b[0mdispatch_timestamp\u001b[0m \u001b[0;34m=\u001b[0m \u001b[0mtime\u001b[0m\u001b[0;34m.\u001b[0m\u001b[0mtime\u001b[0m\u001b[0;34m(\u001b[0m\u001b[0;34m)\u001b[0m\u001b[0;34m\u001b[0m\u001b[0m\n\u001b[1;32m    587\u001b[0m         \u001b[0mcb\u001b[0m \u001b[0;34m=\u001b[0m \u001b[0mBatchCompletionCallBack\u001b[0m\u001b[0;34m(\u001b[0m\u001b[0mdispatch_timestamp\u001b[0m\u001b[0;34m,\u001b[0m \u001b[0mlen\u001b[0m\u001b[0;34m(\u001b[0m\u001b[0mbatch\u001b[0m\u001b[0;34m)\u001b[0m\u001b[0;34m,\u001b[0m \u001b[0mself\u001b[0m\u001b[0;34m)\u001b[0m\u001b[0;34m\u001b[0m\u001b[0m\n\u001b[0;32m--> 588\u001b[0;31m         \u001b[0mjob\u001b[0m \u001b[0;34m=\u001b[0m \u001b[0mself\u001b[0m\u001b[0;34m.\u001b[0m\u001b[0m_backend\u001b[0m\u001b[0;34m.\u001b[0m\u001b[0mapply_async\u001b[0m\u001b[0;34m(\u001b[0m\u001b[0mbatch\u001b[0m\u001b[0;34m,\u001b[0m \u001b[0mcallback\u001b[0m\u001b[0;34m=\u001b[0m\u001b[0mcb\u001b[0m\u001b[0;34m)\u001b[0m\u001b[0;34m\u001b[0m\u001b[0m\n\u001b[0m\u001b[1;32m    589\u001b[0m         \u001b[0mself\u001b[0m\u001b[0;34m.\u001b[0m\u001b[0m_jobs\u001b[0m\u001b[0;34m.\u001b[0m\u001b[0mappend\u001b[0m\u001b[0;34m(\u001b[0m\u001b[0mjob\u001b[0m\u001b[0;34m)\u001b[0m\u001b[0;34m\u001b[0m\u001b[0m\n\u001b[1;32m    590\u001b[0m \u001b[0;34m\u001b[0m\u001b[0m\n",
      "\u001b[0;32m/usr/local/Cellar/python3/3.6.3/Frameworks/Python.framework/Versions/3.6/lib/python3.6/site-packages/sklearn/externals/joblib/_parallel_backends.py\u001b[0m in \u001b[0;36mapply_async\u001b[0;34m(self, func, callback)\u001b[0m\n\u001b[1;32m    109\u001b[0m     \u001b[0;32mdef\u001b[0m \u001b[0mapply_async\u001b[0m\u001b[0;34m(\u001b[0m\u001b[0mself\u001b[0m\u001b[0;34m,\u001b[0m \u001b[0mfunc\u001b[0m\u001b[0;34m,\u001b[0m \u001b[0mcallback\u001b[0m\u001b[0;34m=\u001b[0m\u001b[0;32mNone\u001b[0m\u001b[0;34m)\u001b[0m\u001b[0;34m:\u001b[0m\u001b[0;34m\u001b[0m\u001b[0m\n\u001b[1;32m    110\u001b[0m         \u001b[0;34m\"\"\"Schedule a func to be run\"\"\"\u001b[0m\u001b[0;34m\u001b[0m\u001b[0m\n\u001b[0;32m--> 111\u001b[0;31m         \u001b[0mresult\u001b[0m \u001b[0;34m=\u001b[0m \u001b[0mImmediateResult\u001b[0m\u001b[0;34m(\u001b[0m\u001b[0mfunc\u001b[0m\u001b[0;34m)\u001b[0m\u001b[0;34m\u001b[0m\u001b[0m\n\u001b[0m\u001b[1;32m    112\u001b[0m         \u001b[0;32mif\u001b[0m \u001b[0mcallback\u001b[0m\u001b[0;34m:\u001b[0m\u001b[0;34m\u001b[0m\u001b[0m\n\u001b[1;32m    113\u001b[0m             \u001b[0mcallback\u001b[0m\u001b[0;34m(\u001b[0m\u001b[0mresult\u001b[0m\u001b[0;34m)\u001b[0m\u001b[0;34m\u001b[0m\u001b[0m\n",
      "\u001b[0;32m/usr/local/Cellar/python3/3.6.3/Frameworks/Python.framework/Versions/3.6/lib/python3.6/site-packages/sklearn/externals/joblib/_parallel_backends.py\u001b[0m in \u001b[0;36m__init__\u001b[0;34m(self, batch)\u001b[0m\n\u001b[1;32m    330\u001b[0m         \u001b[0;31m# Don't delay the application, to avoid keeping the input\u001b[0m\u001b[0;34m\u001b[0m\u001b[0;34m\u001b[0m\u001b[0m\n\u001b[1;32m    331\u001b[0m         \u001b[0;31m# arguments in memory\u001b[0m\u001b[0;34m\u001b[0m\u001b[0;34m\u001b[0m\u001b[0m\n\u001b[0;32m--> 332\u001b[0;31m         \u001b[0mself\u001b[0m\u001b[0;34m.\u001b[0m\u001b[0mresults\u001b[0m \u001b[0;34m=\u001b[0m \u001b[0mbatch\u001b[0m\u001b[0;34m(\u001b[0m\u001b[0;34m)\u001b[0m\u001b[0;34m\u001b[0m\u001b[0m\n\u001b[0m\u001b[1;32m    333\u001b[0m \u001b[0;34m\u001b[0m\u001b[0m\n\u001b[1;32m    334\u001b[0m     \u001b[0;32mdef\u001b[0m \u001b[0mget\u001b[0m\u001b[0;34m(\u001b[0m\u001b[0mself\u001b[0m\u001b[0;34m)\u001b[0m\u001b[0;34m:\u001b[0m\u001b[0;34m\u001b[0m\u001b[0m\n",
      "\u001b[0;32m/usr/local/Cellar/python3/3.6.3/Frameworks/Python.framework/Versions/3.6/lib/python3.6/site-packages/sklearn/externals/joblib/parallel.py\u001b[0m in \u001b[0;36m__call__\u001b[0;34m(self)\u001b[0m\n\u001b[1;32m    129\u001b[0m \u001b[0;34m\u001b[0m\u001b[0m\n\u001b[1;32m    130\u001b[0m     \u001b[0;32mdef\u001b[0m \u001b[0m__call__\u001b[0m\u001b[0;34m(\u001b[0m\u001b[0mself\u001b[0m\u001b[0;34m)\u001b[0m\u001b[0;34m:\u001b[0m\u001b[0;34m\u001b[0m\u001b[0m\n\u001b[0;32m--> 131\u001b[0;31m         \u001b[0;32mreturn\u001b[0m \u001b[0;34m[\u001b[0m\u001b[0mfunc\u001b[0m\u001b[0;34m(\u001b[0m\u001b[0;34m*\u001b[0m\u001b[0margs\u001b[0m\u001b[0;34m,\u001b[0m \u001b[0;34m**\u001b[0m\u001b[0mkwargs\u001b[0m\u001b[0;34m)\u001b[0m \u001b[0;32mfor\u001b[0m \u001b[0mfunc\u001b[0m\u001b[0;34m,\u001b[0m \u001b[0margs\u001b[0m\u001b[0;34m,\u001b[0m \u001b[0mkwargs\u001b[0m \u001b[0;32min\u001b[0m \u001b[0mself\u001b[0m\u001b[0;34m.\u001b[0m\u001b[0mitems\u001b[0m\u001b[0;34m]\u001b[0m\u001b[0;34m\u001b[0m\u001b[0m\n\u001b[0m\u001b[1;32m    132\u001b[0m \u001b[0;34m\u001b[0m\u001b[0m\n\u001b[1;32m    133\u001b[0m     \u001b[0;32mdef\u001b[0m \u001b[0m__len__\u001b[0m\u001b[0;34m(\u001b[0m\u001b[0mself\u001b[0m\u001b[0;34m)\u001b[0m\u001b[0;34m:\u001b[0m\u001b[0;34m\u001b[0m\u001b[0m\n",
      "\u001b[0;32m/usr/local/Cellar/python3/3.6.3/Frameworks/Python.framework/Versions/3.6/lib/python3.6/site-packages/sklearn/externals/joblib/parallel.py\u001b[0m in \u001b[0;36m<listcomp>\u001b[0;34m(.0)\u001b[0m\n\u001b[1;32m    129\u001b[0m \u001b[0;34m\u001b[0m\u001b[0m\n\u001b[1;32m    130\u001b[0m     \u001b[0;32mdef\u001b[0m \u001b[0m__call__\u001b[0m\u001b[0;34m(\u001b[0m\u001b[0mself\u001b[0m\u001b[0;34m)\u001b[0m\u001b[0;34m:\u001b[0m\u001b[0;34m\u001b[0m\u001b[0m\n\u001b[0;32m--> 131\u001b[0;31m         \u001b[0;32mreturn\u001b[0m \u001b[0;34m[\u001b[0m\u001b[0mfunc\u001b[0m\u001b[0;34m(\u001b[0m\u001b[0;34m*\u001b[0m\u001b[0margs\u001b[0m\u001b[0;34m,\u001b[0m \u001b[0;34m**\u001b[0m\u001b[0mkwargs\u001b[0m\u001b[0;34m)\u001b[0m \u001b[0;32mfor\u001b[0m \u001b[0mfunc\u001b[0m\u001b[0;34m,\u001b[0m \u001b[0margs\u001b[0m\u001b[0;34m,\u001b[0m \u001b[0mkwargs\u001b[0m \u001b[0;32min\u001b[0m \u001b[0mself\u001b[0m\u001b[0;34m.\u001b[0m\u001b[0mitems\u001b[0m\u001b[0;34m]\u001b[0m\u001b[0;34m\u001b[0m\u001b[0m\n\u001b[0m\u001b[1;32m    132\u001b[0m \u001b[0;34m\u001b[0m\u001b[0m\n\u001b[1;32m    133\u001b[0m     \u001b[0;32mdef\u001b[0m \u001b[0m__len__\u001b[0m\u001b[0;34m(\u001b[0m\u001b[0mself\u001b[0m\u001b[0;34m)\u001b[0m\u001b[0;34m:\u001b[0m\u001b[0;34m\u001b[0m\u001b[0m\n",
      "\u001b[0;32m/usr/local/Cellar/python3/3.6.3/Frameworks/Python.framework/Versions/3.6/lib/python3.6/site-packages/sklearn/model_selection/_validation.py\u001b[0m in \u001b[0;36m_fit_and_score\u001b[0;34m(estimator, X, y, scorer, train, test, verbose, parameters, fit_params, return_train_score, return_parameters, return_n_test_samples, return_times, error_score)\u001b[0m\n\u001b[1;32m    490\u001b[0m         \u001b[0;32mif\u001b[0m \u001b[0mreturn_train_score\u001b[0m\u001b[0;34m:\u001b[0m\u001b[0;34m\u001b[0m\u001b[0m\n\u001b[1;32m    491\u001b[0m             train_scores = _score(estimator, X_train, y_train, scorer,\n\u001b[0;32m--> 492\u001b[0;31m                                   is_multimetric)\n\u001b[0m\u001b[1;32m    493\u001b[0m \u001b[0;34m\u001b[0m\u001b[0m\n\u001b[1;32m    494\u001b[0m     \u001b[0;32mif\u001b[0m \u001b[0mverbose\u001b[0m \u001b[0;34m>\u001b[0m \u001b[0;36m2\u001b[0m\u001b[0;34m:\u001b[0m\u001b[0;34m\u001b[0m\u001b[0m\n",
      "\u001b[0;32m/usr/local/Cellar/python3/3.6.3/Frameworks/Python.framework/Versions/3.6/lib/python3.6/site-packages/sklearn/model_selection/_validation.py\u001b[0m in \u001b[0;36m_score\u001b[0;34m(estimator, X_test, y_test, scorer, is_multimetric)\u001b[0m\n\u001b[1;32m    521\u001b[0m     \"\"\"\n\u001b[1;32m    522\u001b[0m     \u001b[0;32mif\u001b[0m \u001b[0mis_multimetric\u001b[0m\u001b[0;34m:\u001b[0m\u001b[0;34m\u001b[0m\u001b[0m\n\u001b[0;32m--> 523\u001b[0;31m         \u001b[0;32mreturn\u001b[0m \u001b[0m_multimetric_score\u001b[0m\u001b[0;34m(\u001b[0m\u001b[0mestimator\u001b[0m\u001b[0;34m,\u001b[0m \u001b[0mX_test\u001b[0m\u001b[0;34m,\u001b[0m \u001b[0my_test\u001b[0m\u001b[0;34m,\u001b[0m \u001b[0mscorer\u001b[0m\u001b[0;34m)\u001b[0m\u001b[0;34m\u001b[0m\u001b[0m\n\u001b[0m\u001b[1;32m    524\u001b[0m     \u001b[0;32melse\u001b[0m\u001b[0;34m:\u001b[0m\u001b[0;34m\u001b[0m\u001b[0m\n\u001b[1;32m    525\u001b[0m         \u001b[0;32mif\u001b[0m \u001b[0my_test\u001b[0m \u001b[0;32mis\u001b[0m \u001b[0;32mNone\u001b[0m\u001b[0;34m:\u001b[0m\u001b[0;34m\u001b[0m\u001b[0m\n",
      "\u001b[0;32m/usr/local/Cellar/python3/3.6.3/Frameworks/Python.framework/Versions/3.6/lib/python3.6/site-packages/sklearn/model_selection/_validation.py\u001b[0m in \u001b[0;36m_multimetric_score\u001b[0;34m(estimator, X_test, y_test, scorers)\u001b[0m\n\u001b[1;32m    551\u001b[0m             \u001b[0mscore\u001b[0m \u001b[0;34m=\u001b[0m \u001b[0mscorer\u001b[0m\u001b[0;34m(\u001b[0m\u001b[0mestimator\u001b[0m\u001b[0;34m,\u001b[0m \u001b[0mX_test\u001b[0m\u001b[0;34m)\u001b[0m\u001b[0;34m\u001b[0m\u001b[0m\n\u001b[1;32m    552\u001b[0m         \u001b[0;32melse\u001b[0m\u001b[0;34m:\u001b[0m\u001b[0;34m\u001b[0m\u001b[0m\n\u001b[0;32m--> 553\u001b[0;31m             \u001b[0mscore\u001b[0m \u001b[0;34m=\u001b[0m \u001b[0mscorer\u001b[0m\u001b[0;34m(\u001b[0m\u001b[0mestimator\u001b[0m\u001b[0;34m,\u001b[0m \u001b[0mX_test\u001b[0m\u001b[0;34m,\u001b[0m \u001b[0my_test\u001b[0m\u001b[0;34m)\u001b[0m\u001b[0;34m\u001b[0m\u001b[0m\n\u001b[0m\u001b[1;32m    554\u001b[0m \u001b[0;34m\u001b[0m\u001b[0m\n\u001b[1;32m    555\u001b[0m         \u001b[0;32mif\u001b[0m \u001b[0mhasattr\u001b[0m\u001b[0;34m(\u001b[0m\u001b[0mscore\u001b[0m\u001b[0;34m,\u001b[0m \u001b[0;34m'item'\u001b[0m\u001b[0;34m)\u001b[0m\u001b[0;34m:\u001b[0m\u001b[0;34m\u001b[0m\u001b[0m\n",
      "\u001b[0;32m/usr/local/Cellar/python3/3.6.3/Frameworks/Python.framework/Versions/3.6/lib/python3.6/site-packages/sklearn/metrics/scorer.py\u001b[0m in \u001b[0;36m__call__\u001b[0;34m(self, estimator, X, y_true, sample_weight)\u001b[0m\n\u001b[1;32m     99\u001b[0m         super(_PredictScorer, self).__call__(estimator, X, y_true,\n\u001b[1;32m    100\u001b[0m                                              sample_weight=sample_weight)\n\u001b[0;32m--> 101\u001b[0;31m         \u001b[0my_pred\u001b[0m \u001b[0;34m=\u001b[0m \u001b[0mestimator\u001b[0m\u001b[0;34m.\u001b[0m\u001b[0mpredict\u001b[0m\u001b[0;34m(\u001b[0m\u001b[0mX\u001b[0m\u001b[0;34m)\u001b[0m\u001b[0;34m\u001b[0m\u001b[0m\n\u001b[0m\u001b[1;32m    102\u001b[0m         \u001b[0;32mif\u001b[0m \u001b[0msample_weight\u001b[0m \u001b[0;32mis\u001b[0m \u001b[0;32mnot\u001b[0m \u001b[0;32mNone\u001b[0m\u001b[0;34m:\u001b[0m\u001b[0;34m\u001b[0m\u001b[0m\n\u001b[1;32m    103\u001b[0m             return self._sign * self._score_func(y_true, y_pred,\n",
      "\u001b[0;32m/usr/local/Cellar/python3/3.6.3/Frameworks/Python.framework/Versions/3.6/lib/python3.6/site-packages/sklearn/svm/base.py\u001b[0m in \u001b[0;36mpredict\u001b[0;34m(self, X)\u001b[0m\n\u001b[1;32m    308\u001b[0m         \u001b[0mX\u001b[0m \u001b[0;34m=\u001b[0m \u001b[0mself\u001b[0m\u001b[0;34m.\u001b[0m\u001b[0m_validate_for_predict\u001b[0m\u001b[0;34m(\u001b[0m\u001b[0mX\u001b[0m\u001b[0;34m)\u001b[0m\u001b[0;34m\u001b[0m\u001b[0m\n\u001b[1;32m    309\u001b[0m         \u001b[0mpredict\u001b[0m \u001b[0;34m=\u001b[0m \u001b[0mself\u001b[0m\u001b[0;34m.\u001b[0m\u001b[0m_sparse_predict\u001b[0m \u001b[0;32mif\u001b[0m \u001b[0mself\u001b[0m\u001b[0;34m.\u001b[0m\u001b[0m_sparse\u001b[0m \u001b[0;32melse\u001b[0m \u001b[0mself\u001b[0m\u001b[0;34m.\u001b[0m\u001b[0m_dense_predict\u001b[0m\u001b[0;34m\u001b[0m\u001b[0m\n\u001b[0;32m--> 310\u001b[0;31m         \u001b[0;32mreturn\u001b[0m \u001b[0mpredict\u001b[0m\u001b[0;34m(\u001b[0m\u001b[0mX\u001b[0m\u001b[0;34m)\u001b[0m\u001b[0;34m\u001b[0m\u001b[0m\n\u001b[0m\u001b[1;32m    311\u001b[0m \u001b[0;34m\u001b[0m\u001b[0m\n\u001b[1;32m    312\u001b[0m     \u001b[0;32mdef\u001b[0m \u001b[0m_dense_predict\u001b[0m\u001b[0;34m(\u001b[0m\u001b[0mself\u001b[0m\u001b[0;34m,\u001b[0m \u001b[0mX\u001b[0m\u001b[0;34m)\u001b[0m\u001b[0;34m:\u001b[0m\u001b[0;34m\u001b[0m\u001b[0m\n",
      "\u001b[0;32m/usr/local/Cellar/python3/3.6.3/Frameworks/Python.framework/Versions/3.6/lib/python3.6/site-packages/sklearn/svm/base.py\u001b[0m in \u001b[0;36m_dense_predict\u001b[0;34m(self, X)\u001b[0m\n\u001b[1;32m    331\u001b[0m             \u001b[0mself\u001b[0m\u001b[0;34m.\u001b[0m\u001b[0mprobA_\u001b[0m\u001b[0;34m,\u001b[0m \u001b[0mself\u001b[0m\u001b[0;34m.\u001b[0m\u001b[0mprobB_\u001b[0m\u001b[0;34m,\u001b[0m \u001b[0msvm_type\u001b[0m\u001b[0;34m=\u001b[0m\u001b[0msvm_type\u001b[0m\u001b[0;34m,\u001b[0m \u001b[0mkernel\u001b[0m\u001b[0;34m=\u001b[0m\u001b[0mkernel\u001b[0m\u001b[0;34m,\u001b[0m\u001b[0;34m\u001b[0m\u001b[0m\n\u001b[1;32m    332\u001b[0m             \u001b[0mdegree\u001b[0m\u001b[0;34m=\u001b[0m\u001b[0mself\u001b[0m\u001b[0;34m.\u001b[0m\u001b[0mdegree\u001b[0m\u001b[0;34m,\u001b[0m \u001b[0mcoef0\u001b[0m\u001b[0;34m=\u001b[0m\u001b[0mself\u001b[0m\u001b[0;34m.\u001b[0m\u001b[0mcoef0\u001b[0m\u001b[0;34m,\u001b[0m \u001b[0mgamma\u001b[0m\u001b[0;34m=\u001b[0m\u001b[0mself\u001b[0m\u001b[0;34m.\u001b[0m\u001b[0m_gamma\u001b[0m\u001b[0;34m,\u001b[0m\u001b[0;34m\u001b[0m\u001b[0m\n\u001b[0;32m--> 333\u001b[0;31m             cache_size=self.cache_size)\n\u001b[0m\u001b[1;32m    334\u001b[0m \u001b[0;34m\u001b[0m\u001b[0m\n\u001b[1;32m    335\u001b[0m     \u001b[0;32mdef\u001b[0m \u001b[0m_sparse_predict\u001b[0m\u001b[0;34m(\u001b[0m\u001b[0mself\u001b[0m\u001b[0;34m,\u001b[0m \u001b[0mX\u001b[0m\u001b[0;34m)\u001b[0m\u001b[0;34m:\u001b[0m\u001b[0;34m\u001b[0m\u001b[0m\n",
      "\u001b[0;31mKeyboardInterrupt\u001b[0m: "
     ]
    }
   ],
   "source": [
    "param_grid = [\n",
    "    {'kernel': ['rbf'], 'C': [10, 30, 100, 300, 1000, 3000, 10000, 30000],\n",
    "    'gamma': [0.01, 0.03, 0.1, 0.3, 1, 3]}\n",
    "]\n",
    "\n",
    "svm_reg = SVR()\n",
    "grid_search = GridSearchCV(svm_reg, param_grid, cv=5, scoring='neg_mean_squared_error')\n",
    "grid_search.fit(housing_prepared, housing_labels)"
   ]
  },
  {
   "cell_type": "code",
   "execution_count": 27,
   "metadata": {},
   "outputs": [
    {
     "ename": "AttributeError",
     "evalue": "'GridSearchCV' object has no attribute 'best_estimator_'",
     "output_type": "error",
     "traceback": [
      "\u001b[0;31m---------------------------------------------------------------------------\u001b[0m",
      "\u001b[0;31mAttributeError\u001b[0m                            Traceback (most recent call last)",
      "\u001b[0;32m<ipython-input-27-4f49271ba39f>\u001b[0m in \u001b[0;36m<module>\u001b[0;34m()\u001b[0m\n\u001b[0;32m----> 1\u001b[0;31m \u001b[0mfeature_importances\u001b[0m \u001b[0;34m=\u001b[0m \u001b[0mgrid_search\u001b[0m\u001b[0;34m.\u001b[0m\u001b[0mbest_estimator_\u001b[0m\u001b[0;34m.\u001b[0m\u001b[0mfeature_importances_\u001b[0m\u001b[0;34m\u001b[0m\u001b[0m\n\u001b[0m",
      "\u001b[0;31mAttributeError\u001b[0m: 'GridSearchCV' object has no attribute 'best_estimator_'"
     ]
    }
   ],
   "source": [
    "feature_importances = grid_search.best_estimator_.feature_importances_"
   ]
  },
  {
   "cell_type": "markdown",
   "metadata": {},
   "source": [
    "### 2. Try replacing `GridSearchCV` with `RandomizedSearchCV`."
   ]
  },
  {
   "cell_type": "code",
   "execution_count": 18,
   "metadata": {},
   "outputs": [
    {
     "name": "stderr",
     "output_type": "stream",
     "text": [
      "/usr/local/Cellar/python3/3.6.3/Frameworks/Python.framework/Versions/3.6/lib/python3.6/site-packages/sklearn/ensemble/weight_boosting.py:29: DeprecationWarning: numpy.core.umath_tests is an internal NumPy module and should not be imported. It will be removed in a future NumPy release.\n",
      "  from numpy.core.umath_tests import inner1d\n"
     ]
    },
    {
     "data": {
      "text/plain": [
       "RandomizedSearchCV(cv=5, error_score='raise',\n",
       "          estimator=RandomForestRegressor(bootstrap=True, criterion='mse', max_depth=None,\n",
       "           max_features='auto', max_leaf_nodes=None,\n",
       "           min_impurity_decrease=0.0, min_impurity_split=None,\n",
       "           min_samples_leaf=1, min_samples_split=2,\n",
       "           min_weight_fraction_leaf=0.0, n_estimators=10, n_jobs=1,\n",
       "           oob_score=False, random_state=None, verbose=0, warm_start=False),\n",
       "          fit_params=None, iid=True, n_iter=10, n_jobs=1,\n",
       "          param_distributions={'n_estimators': <scipy.stats._distn_infrastructure.rv_frozen object at 0x11ab19630>, 'max_features': <scipy.stats._distn_infrastructure.rv_frozen object at 0x11ab19898>},\n",
       "          pre_dispatch='2*n_jobs', random_state=42, refit=True,\n",
       "          return_train_score='warn', scoring='neg_mean_squared_error',\n",
       "          verbose=0)"
      ]
     },
     "execution_count": 18,
     "metadata": {},
     "output_type": "execute_result"
    }
   ],
   "source": [
    "# replacing in the context code\n",
    "from sklearn.ensemble import RandomForestRegressor\n",
    "from sklearn.model_selection import RandomizedSearchCV\n",
    "from scipy.stats import randint\n",
    "\n",
    "param_distribs = {\n",
    "    'n_estimators': randint(low=1, high=100),\n",
    "    'max_features': randint(low=1, high=8)\n",
    "}\n",
    "\n",
    "forest_reg = RandomForestRegressor()\n",
    "rnd_search = RandomizedSearchCV(forest_reg, param_distributions=param_distribs,\n",
    "                                n_iter=10, cv=5, scoring='neg_mean_squared_error', random_state=42)\n",
    "rnd_search.fit(housing_prepared, housing_labels)"
   ]
  },
  {
   "cell_type": "code",
   "execution_count": 21,
   "metadata": {},
   "outputs": [
    {
     "data": {
      "text/plain": [
       "{'max_features': 7, 'n_estimators': 83}"
      ]
     },
     "execution_count": 21,
     "metadata": {},
     "output_type": "execute_result"
    }
   ],
   "source": [
    "rnd_search.best_params_"
   ]
  },
  {
   "cell_type": "code",
   "execution_count": 19,
   "metadata": {},
   "outputs": [
    {
     "data": {
      "text/plain": [
       "49357.917311557685"
      ]
     },
     "execution_count": 19,
     "metadata": {},
     "output_type": "execute_result"
    }
   ],
   "source": [
    "np.sqrt(-rnd_search.best_score_)"
   ]
  },
  {
   "cell_type": "code",
   "execution_count": 22,
   "metadata": {},
   "outputs": [
    {
     "name": "stdout",
     "output_type": "stream",
     "text": [
      "Fitting 5 folds for each of 50 candidates, totalling 250 fits\n",
      "[CV] C=629.782329591372, gamma=3.010121430917521, kernel=linear ......\n",
      "[CV] C=629.782329591372, gamma=3.010121430917521, kernel=linear ......\n",
      "[CV] C=629.782329591372, gamma=3.010121430917521, kernel=linear ......\n",
      "[CV] C=629.782329591372, gamma=3.010121430917521, kernel=linear ......\n",
      "[CV]  C=629.782329591372, gamma=3.010121430917521, kernel=linear, total=  15.5s\n",
      "[CV] C=629.782329591372, gamma=3.010121430917521, kernel=linear ......\n",
      "[CV]  C=629.782329591372, gamma=3.010121430917521, kernel=linear, total=  15.6s\n",
      "[CV] C=26290.206464300216, gamma=0.9084469696321253, kernel=rbf ......\n",
      "[CV]  C=629.782329591372, gamma=3.010121430917521, kernel=linear, total=  15.8s\n",
      "[CV] C=26290.206464300216, gamma=0.9084469696321253, kernel=rbf ......\n",
      "[CV]  C=629.782329591372, gamma=3.010121430917521, kernel=linear, total=  15.7s\n",
      "[CV] C=26290.206464300216, gamma=0.9084469696321253, kernel=rbf ......\n",
      "[CV]  C=629.782329591372, gamma=3.010121430917521, kernel=linear, total=  13.9s\n",
      "[CV] C=26290.206464300216, gamma=0.9084469696321253, kernel=rbf ......\n",
      "[CV]  C=26290.206464300216, gamma=0.9084469696321253, kernel=rbf, total=  22.7s\n",
      "[CV] C=26290.206464300216, gamma=0.9084469696321253, kernel=rbf ......\n",
      "[CV]  C=26290.206464300216, gamma=0.9084469696321253, kernel=rbf, total=  23.0s\n",
      "[CV] C=84.14107900575871, gamma=0.059838768608680676, kernel=rbf .....\n",
      "[CV]  C=26290.206464300216, gamma=0.9084469696321253, kernel=rbf, total=  23.6s\n",
      "[CV] C=84.14107900575871, gamma=0.059838768608680676, kernel=rbf .....\n",
      "[CV]  C=26290.206464300216, gamma=0.9084469696321253, kernel=rbf, total=  24.6s\n",
      "[CV] C=84.14107900575871, gamma=0.059838768608680676, kernel=rbf .....\n",
      "[CV]  C=84.14107900575871, gamma=0.059838768608680676, kernel=rbf, total=  17.6s\n",
      "[CV] C=84.14107900575871, gamma=0.059838768608680676, kernel=rbf .....\n",
      "[CV]  C=84.14107900575871, gamma=0.059838768608680676, kernel=rbf, total=  17.6s\n",
      "[CV] C=84.14107900575871, gamma=0.059838768608680676, kernel=rbf .....\n",
      "[CV]  C=26290.206464300216, gamma=0.9084469696321253, kernel=rbf, total=  23.1s\n",
      "[CV] C=432.37884813148855, gamma=0.15416196746656105, kernel=linear ..\n",
      "[CV]  C=84.14107900575871, gamma=0.059838768608680676, kernel=rbf, total=  17.3s\n",
      "[CV] C=432.37884813148855, gamma=0.15416196746656105, kernel=linear ..\n",
      "[CV]  C=432.37884813148855, gamma=0.15416196746656105, kernel=linear, total=  12.6s\n",
      "[CV] C=432.37884813148855, gamma=0.15416196746656105, kernel=linear ..\n",
      "[CV]  C=84.14107900575871, gamma=0.059838768608680676, kernel=rbf, total=  17.5s\n",
      "[CV] C=432.37884813148855, gamma=0.15416196746656105, kernel=linear ..\n",
      "[CV]  C=84.14107900575871, gamma=0.059838768608680676, kernel=rbf, total=  17.6s\n",
      "[CV] C=432.37884813148855, gamma=0.15416196746656105, kernel=linear ..\n",
      "[CV]  C=432.37884813148855, gamma=0.15416196746656105, kernel=linear, total=  13.7s\n",
      "[CV] C=24.17508294611391, gamma=3.503557475158312, kernel=rbf ........\n",
      "[CV]  C=432.37884813148855, gamma=0.15416196746656105, kernel=linear, total=  14.2s\n",
      "[CV] C=24.17508294611391, gamma=3.503557475158312, kernel=rbf ........\n",
      "[CV]  C=432.37884813148855, gamma=0.15416196746656105, kernel=linear, total=  14.3s\n",
      "[CV] C=24.17508294611391, gamma=3.503557475158312, kernel=rbf ........\n",
      "[CV]  C=432.37884813148855, gamma=0.15416196746656105, kernel=linear, total=  14.2s\n",
      "[CV] C=24.17508294611391, gamma=3.503557475158312, kernel=rbf ........\n",
      "[CV]  C=24.17508294611391, gamma=3.503557475158312, kernel=rbf, total=  21.7s\n",
      "[CV] C=24.17508294611391, gamma=3.503557475158312, kernel=rbf ........\n",
      "[CV]  C=24.17508294611391, gamma=3.503557475158312, kernel=rbf, total=  22.3s\n",
      "[CV] C=113564.03940586245, gamma=0.0007790692366582295, kernel=rbf ...\n",
      "[CV]  C=24.17508294611391, gamma=3.503557475158312, kernel=rbf, total=  22.8s\n",
      "[CV] C=113564.03940586245, gamma=0.0007790692366582295, kernel=rbf ...\n",
      "[CV]  C=24.17508294611391, gamma=3.503557475158312, kernel=rbf, total=  23.0s\n",
      "[CV] C=113564.03940586245, gamma=0.0007790692366582295, kernel=rbf ...\n",
      "[CV]  C=24.17508294611391, gamma=3.503557475158312, kernel=rbf, total=  23.7s\n",
      "[CV] C=113564.03940586245, gamma=0.0007790692366582295, kernel=rbf ...\n",
      "[CV]  C=113564.03940586245, gamma=0.0007790692366582295, kernel=rbf, total=  19.8s\n",
      "[CV] C=113564.03940586245, gamma=0.0007790692366582295, kernel=rbf ...\n",
      "[CV]  C=113564.03940586245, gamma=0.0007790692366582295, kernel=rbf, total=  19.4s\n",
      "[CV] C=108.30488238805073, gamma=0.3627537294604771, kernel=rbf ......\n",
      "[CV]  C=113564.03940586245, gamma=0.0007790692366582295, kernel=rbf, total=  19.2s\n",
      "[CV] C=108.30488238805073, gamma=0.3627537294604771, kernel=rbf ......\n",
      "[CV]  C=113564.03940586245, gamma=0.0007790692366582295, kernel=rbf, total=  18.0s\n",
      "[CV] C=108.30488238805073, gamma=0.3627537294604771, kernel=rbf ......\n",
      "[CV]  C=113564.03940586245, gamma=0.0007790692366582295, kernel=rbf, total=  18.0s\n",
      "[CV] C=108.30488238805073, gamma=0.3627537294604771, kernel=rbf ......\n",
      "[CV]  C=108.30488238805073, gamma=0.3627537294604771, kernel=rbf, total=  18.1s\n",
      "[CV] C=108.30488238805073, gamma=0.3627537294604771, kernel=rbf ......\n",
      "[CV]  C=108.30488238805073, gamma=0.3627537294604771, kernel=rbf, total=  17.8s\n",
      "[CV] C=21.344953672647435, gamma=0.023332523598323388, kernel=linear .\n",
      "[CV]  C=21.344953672647435, gamma=0.023332523598323388, kernel=linear, total=  13.0s\n",
      "[CV] C=21.344953672647435, gamma=0.023332523598323388, kernel=linear .\n"
     ]
    },
    {
     "name": "stderr",
     "output_type": "stream",
     "text": [
      "[Parallel(n_jobs=4)]: Done  33 tasks      | elapsed:  4.0min\n"
     ]
    },
    {
     "name": "stdout",
     "output_type": "stream",
     "text": [
      "[CV]  C=108.30488238805073, gamma=0.3627537294604771, kernel=rbf, total=  17.6s\n",
      "[CV] C=21.344953672647435, gamma=0.023332523598323388, kernel=linear .\n",
      "[CV]  C=108.30488238805073, gamma=0.3627537294604771, kernel=rbf, total=  17.5s\n",
      "[CV] C=21.344953672647435, gamma=0.023332523598323388, kernel=linear .\n",
      "[CV]  C=108.30488238805073, gamma=0.3627537294604771, kernel=rbf, total=  17.3s\n",
      "[CV] C=21.344953672647435, gamma=0.023332523598323388, kernel=linear .\n",
      "[CV]  C=21.344953672647435, gamma=0.023332523598323388, kernel=linear, total=  13.7s\n",
      "[CV] C=5603.270317432516, gamma=0.15023452872733867, kernel=rbf ......\n",
      "[CV]  C=21.344953672647435, gamma=0.023332523598323388, kernel=linear, total=  14.2s\n",
      "[CV] C=5603.270317432516, gamma=0.15023452872733867, kernel=rbf ......\n",
      "[CV]  C=21.344953672647435, gamma=0.023332523598323388, kernel=linear, total=  14.0s\n",
      "[CV] C=5603.270317432516, gamma=0.15023452872733867, kernel=rbf ......\n",
      "[CV]  C=21.344953672647435, gamma=0.023332523598323388, kernel=linear, total=  14.4s\n",
      "[CV] C=5603.270317432516, gamma=0.15023452872733867, kernel=rbf ......\n",
      "[CV]  C=5603.270317432516, gamma=0.15023452872733867, kernel=rbf, total=  17.5s\n",
      "[CV] C=5603.270317432516, gamma=0.15023452872733867, kernel=rbf ......\n",
      "[CV]  C=5603.270317432516, gamma=0.15023452872733867, kernel=rbf, total=  17.3s\n",
      "[CV] C=157055.10989448498, gamma=0.26497040005002437, kernel=rbf .....\n",
      "[CV]  C=5603.270317432516, gamma=0.15023452872733867, kernel=rbf, total=  17.2s\n",
      "[CV] C=157055.10989448498, gamma=0.26497040005002437, kernel=rbf .....\n",
      "[CV]  C=5603.270317432516, gamma=0.15023452872733867, kernel=rbf, total=  16.8s\n",
      "[CV] C=157055.10989448498, gamma=0.26497040005002437, kernel=rbf .....\n",
      "[CV]  C=5603.270317432516, gamma=0.15023452872733867, kernel=rbf, total=  17.0s\n",
      "[CV] C=157055.10989448498, gamma=0.26497040005002437, kernel=rbf .....\n",
      "[CV]  C=157055.10989448498, gamma=0.26497040005002437, kernel=rbf, total=  49.0s\n",
      "[CV] C=157055.10989448498, gamma=0.26497040005002437, kernel=rbf .....\n",
      "[CV]  C=157055.10989448498, gamma=0.26497040005002437, kernel=rbf, total=  52.9s\n",
      "[CV] C=27652.464358739708, gamma=0.2227358621286903, kernel=linear ...\n",
      "[CV]  C=157055.10989448498, gamma=0.26497040005002437, kernel=rbf, total= 1.1min\n",
      "[CV] C=27652.464358739708, gamma=0.2227358621286903, kernel=linear ...\n",
      "[CV]  C=157055.10989448498, gamma=0.26497040005002437, kernel=rbf, total=  49.7s\n",
      "[CV] C=27652.464358739708, gamma=0.2227358621286903, kernel=linear ...\n",
      "[CV]  C=27652.464358739708, gamma=0.2227358621286903, kernel=linear, total=  31.0s\n",
      "[CV] C=27652.464358739708, gamma=0.2227358621286903, kernel=linear ...\n",
      "[CV]  C=27652.464358739708, gamma=0.2227358621286903, kernel=linear, total=  33.5s\n",
      "[CV] C=27652.464358739708, gamma=0.2227358621286903, kernel=linear ...\n",
      "[CV]  C=27652.464358739708, gamma=0.2227358621286903, kernel=linear, total=  36.9s\n",
      "[CV] C=171377.39570378003, gamma=0.628789100540856, kernel=linear ....\n",
      "[CV]  C=157055.10989448498, gamma=0.26497040005002437, kernel=rbf, total= 1.1min\n",
      "[CV] C=171377.39570378003, gamma=0.628789100540856, kernel=linear ....\n",
      "[CV]  C=27652.464358739708, gamma=0.2227358621286903, kernel=linear, total=  32.7s\n",
      "[CV] C=171377.39570378003, gamma=0.628789100540856, kernel=linear ....\n",
      "[CV]  C=27652.464358739708, gamma=0.2227358621286903, kernel=linear, total=  32.2s\n",
      "[CV] C=171377.39570378003, gamma=0.628789100540856, kernel=linear ....\n",
      "[CV]  C=171377.39570378003, gamma=0.628789100540856, kernel=linear, total= 1.8min\n",
      "[CV] C=171377.39570378003, gamma=0.628789100540856, kernel=linear ....\n",
      "[CV]  C=171377.39570378003, gamma=0.628789100540856, kernel=linear, total= 2.4min\n",
      "[CV] C=5385.293820172355, gamma=0.18696125197741642, kernel=linear ...\n",
      "[CV]  C=171377.39570378003, gamma=0.628789100540856, kernel=linear, total= 1.9min\n",
      "[CV] C=5385.293820172355, gamma=0.18696125197741642, kernel=linear ...\n",
      "[CV]  C=171377.39570378003, gamma=0.628789100540856, kernel=linear, total= 2.2min\n",
      "[CV] C=5385.293820172355, gamma=0.18696125197741642, kernel=linear ...\n",
      "[CV]  C=5385.293820172355, gamma=0.18696125197741642, kernel=linear, total=  16.9s\n",
      "[CV] C=5385.293820172355, gamma=0.18696125197741642, kernel=linear ...\n",
      "[CV]  C=5385.293820172355, gamma=0.18696125197741642, kernel=linear, total=  16.0s\n",
      "[CV] C=5385.293820172355, gamma=0.18696125197741642, kernel=linear ...\n",
      "[CV]  C=5385.293820172355, gamma=0.18696125197741642, kernel=linear, total=  16.3s\n",
      "[CV] C=22.59903216621323, gamma=2.850796878935603, kernel=rbf ........\n",
      "[CV]  C=5385.293820172355, gamma=0.18696125197741642, kernel=linear, total=  15.1s\n",
      "[CV] C=22.59903216621323, gamma=2.850796878935603, kernel=rbf ........\n",
      "[CV]  C=5385.293820172355, gamma=0.18696125197741642, kernel=linear, total=  15.3s\n",
      "[CV] C=22.59903216621323, gamma=2.850796878935603, kernel=rbf ........\n",
      "[CV]  C=22.59903216621323, gamma=2.850796878935603, kernel=rbf, total=  18.9s\n",
      "[CV] C=22.59903216621323, gamma=2.850796878935603, kernel=rbf ........\n",
      "[CV]  C=171377.39570378003, gamma=0.628789100540856, kernel=linear, total= 1.5min\n",
      "[CV] C=22.59903216621323, gamma=2.850796878935603, kernel=rbf ........\n",
      "[CV]  C=22.59903216621323, gamma=2.850796878935603, kernel=rbf, total=  23.4s\n",
      "[CV] C=34246.75194632794, gamma=0.3632878599687583, kernel=linear ....\n",
      "[CV]  C=22.59903216621323, gamma=2.850796878935603, kernel=rbf, total=  23.7s\n",
      "[CV] C=34246.75194632794, gamma=0.3632878599687583, kernel=linear ....\n",
      "[CV]  C=22.59903216621323, gamma=2.850796878935603, kernel=rbf, total=  23.5s\n",
      "[CV] C=34246.75194632794, gamma=0.3632878599687583, kernel=linear ....\n",
      "[CV]  C=22.59903216621323, gamma=2.850796878935603, kernel=rbf, total=  22.6s\n",
      "[CV] C=34246.75194632794, gamma=0.3632878599687583, kernel=linear ....\n",
      "[CV]  C=34246.75194632794, gamma=0.3632878599687583, kernel=linear, total=  36.2s\n",
      "[CV] C=34246.75194632794, gamma=0.3632878599687583, kernel=linear ....\n",
      "[CV]  C=34246.75194632794, gamma=0.3632878599687583, kernel=linear, total=  35.0s\n",
      "[CV] C=167.7278956080511, gamma=0.2757870542258224, kernel=rbf .......\n",
      "[CV]  C=34246.75194632794, gamma=0.3632878599687583, kernel=linear, total=  34.3s\n",
      "[CV] C=167.7278956080511, gamma=0.2757870542258224, kernel=rbf .......\n",
      "[CV]  C=34246.75194632794, gamma=0.3632878599687583, kernel=linear, total=  33.8s\n",
      "[CV] C=167.7278956080511, gamma=0.2757870542258224, kernel=rbf .......\n",
      "[CV]  C=167.7278956080511, gamma=0.2757870542258224, kernel=rbf, total=  17.0s\n",
      "[CV] C=167.7278956080511, gamma=0.2757870542258224, kernel=rbf .......\n",
      "[CV]  C=34246.75194632794, gamma=0.3632878599687583, kernel=linear, total=  31.2s\n",
      "[CV] C=167.7278956080511, gamma=0.2757870542258224, kernel=rbf .......\n",
      "[CV]  C=167.7278956080511, gamma=0.2757870542258224, kernel=rbf, total=  18.7s\n",
      "[CV] C=61.54360542501371, gamma=0.6835472281341501, kernel=linear ....\n",
      "[CV]  C=167.7278956080511, gamma=0.2757870542258224, kernel=rbf, total=  19.0s\n",
      "[CV] C=61.54360542501371, gamma=0.6835472281341501, kernel=linear ....\n",
      "[CV]  C=167.7278956080511, gamma=0.2757870542258224, kernel=rbf, total=  19.5s\n",
      "[CV] C=61.54360542501371, gamma=0.6835472281341501, kernel=linear ....\n",
      "[CV]  C=61.54360542501371, gamma=0.6835472281341501, kernel=linear, total=  16.4s\n",
      "[CV] C=61.54360542501371, gamma=0.6835472281341501, kernel=linear ....\n",
      "[CV]  C=167.7278956080511, gamma=0.2757870542258224, kernel=rbf, total=  20.8s\n",
      "[CV] C=61.54360542501371, gamma=0.6835472281341501, kernel=linear ....\n",
      "[CV]  C=61.54360542501371, gamma=0.6835472281341501, kernel=linear, total=  16.7s\n",
      "[CV] C=98.73897389920914, gamma=0.4960365360493639, kernel=rbf .......\n",
      "[CV]  C=61.54360542501371, gamma=0.6835472281341501, kernel=linear, total=  16.6s\n",
      "[CV] C=98.73897389920914, gamma=0.4960365360493639, kernel=rbf .......\n",
      "[CV]  C=61.54360542501371, gamma=0.6835472281341501, kernel=linear, total=  18.3s\n",
      "[CV] C=98.73897389920914, gamma=0.4960365360493639, kernel=rbf .......\n",
      "[CV]  C=61.54360542501371, gamma=0.6835472281341501, kernel=linear, total=  18.0s\n",
      "[CV] C=98.73897389920914, gamma=0.4960365360493639, kernel=rbf .......\n",
      "[CV]  C=98.73897389920914, gamma=0.4960365360493639, kernel=rbf, total=  18.6s\n",
      "[CV] C=98.73897389920914, gamma=0.4960365360493639, kernel=rbf .......\n",
      "[CV]  C=98.73897389920914, gamma=0.4960365360493639, kernel=rbf, total=  18.2s\n",
      "[CV] C=8935.505635947808, gamma=0.37354658165762367, kernel=rbf ......\n"
     ]
    },
    {
     "name": "stdout",
     "output_type": "stream",
     "text": [
      "[CV]  C=98.73897389920914, gamma=0.4960365360493639, kernel=rbf, total=  17.5s\n",
      "[CV] C=8935.505635947808, gamma=0.37354658165762367, kernel=rbf ......\n",
      "[CV]  C=98.73897389920914, gamma=0.4960365360493639, kernel=rbf, total=  17.4s\n",
      "[CV] C=8935.505635947808, gamma=0.37354658165762367, kernel=rbf ......\n",
      "[CV]  C=98.73897389920914, gamma=0.4960365360493639, kernel=rbf, total=  16.6s\n",
      "[CV] C=8935.505635947808, gamma=0.37354658165762367, kernel=rbf ......\n",
      "[CV]  C=8935.505635947808, gamma=0.37354658165762367, kernel=rbf, total=  16.9s\n",
      "[CV] C=8935.505635947808, gamma=0.37354658165762367, kernel=rbf ......\n",
      "[CV]  C=8935.505635947808, gamma=0.37354658165762367, kernel=rbf, total=  17.1s\n",
      "[CV] C=135.76775824842434, gamma=0.838636245624803, kernel=linear ....\n",
      "[CV]  C=8935.505635947808, gamma=0.37354658165762367, kernel=rbf, total=  17.4s\n",
      "[CV] C=135.76775824842434, gamma=0.838636245624803, kernel=linear ....\n",
      "[CV]  C=135.76775824842434, gamma=0.838636245624803, kernel=linear, total=  16.2s\n",
      "[CV] C=135.76775824842434, gamma=0.838636245624803, kernel=linear ....\n",
      "[CV]  C=135.76775824842434, gamma=0.838636245624803, kernel=linear, total=  15.8s\n",
      "[CV] C=135.76775824842434, gamma=0.838636245624803, kernel=linear ....\n",
      "[CV]  C=8935.505635947808, gamma=0.37354658165762367, kernel=rbf, total=  20.1s\n",
      "[CV] C=135.76775824842434, gamma=0.838636245624803, kernel=linear ....\n",
      "[CV]  C=8935.505635947808, gamma=0.37354658165762367, kernel=rbf, total=  20.5s\n",
      "[CV] C=151136.20282548846, gamma=1.4922453771381408, kernel=rbf ......\n",
      "[CV]  C=135.76775824842434, gamma=0.838636245624803, kernel=linear, total=  15.1s\n",
      "[CV] C=151136.20282548846, gamma=1.4922453771381408, kernel=rbf ......\n",
      "[CV]  C=135.76775824842434, gamma=0.838636245624803, kernel=linear, total=  15.4s\n",
      "[CV] C=151136.20282548846, gamma=1.4922453771381408, kernel=rbf ......\n",
      "[CV]  C=135.76775824842434, gamma=0.838636245624803, kernel=linear, total=  14.9s\n",
      "[CV] C=151136.20282548846, gamma=1.4922453771381408, kernel=rbf ......\n",
      "[CV]  C=151136.20282548846, gamma=1.4922453771381408, kernel=rbf, total= 3.2min\n",
      "[CV] C=151136.20282548846, gamma=1.4922453771381408, kernel=rbf ......\n",
      "[CV]  C=151136.20282548846, gamma=1.4922453771381408, kernel=rbf, total= 3.4min\n",
      "[CV] C=761.4316758498783, gamma=2.6126336514161914, kernel=linear ....\n",
      "[CV]  C=761.4316758498783, gamma=2.6126336514161914, kernel=linear, total=  12.0s\n",
      "[CV] C=761.4316758498783, gamma=2.6126336514161914, kernel=linear ....\n",
      "[CV]  C=761.4316758498783, gamma=2.6126336514161914, kernel=linear, total=  12.2s\n",
      "[CV] C=761.4316758498783, gamma=2.6126336514161914, kernel=linear ....\n",
      "[CV]  C=151136.20282548846, gamma=1.4922453771381408, kernel=rbf, total= 4.0min\n",
      "[CV] C=761.4316758498783, gamma=2.6126336514161914, kernel=linear ....\n",
      "[CV]  C=151136.20282548846, gamma=1.4922453771381408, kernel=rbf, total= 4.6min\n",
      "[CV] C=761.4316758498783, gamma=2.6126336514161914, kernel=linear ....\n",
      "[CV]  C=761.4316758498783, gamma=2.6126336514161914, kernel=linear, total=  13.0s\n",
      "[CV] C=97392.81883041795, gamma=0.09265545895311562, kernel=linear ...\n",
      "[CV]  C=761.4316758498783, gamma=2.6126336514161914, kernel=linear, total=  13.0s\n",
      "[CV] C=97392.81883041795, gamma=0.09265545895311562, kernel=linear ...\n",
      "[CV]  C=761.4316758498783, gamma=2.6126336514161914, kernel=linear, total=  13.6s\n",
      "[CV] C=97392.81883041795, gamma=0.09265545895311562, kernel=linear ...\n",
      "[CV]  C=97392.81883041795, gamma=0.09265545895311562, kernel=linear, total=  58.0s\n",
      "[CV] C=97392.81883041795, gamma=0.09265545895311562, kernel=linear ...\n",
      "[CV]  C=97392.81883041795, gamma=0.09265545895311562, kernel=linear, total= 1.0min\n",
      "[CV] C=97392.81883041795, gamma=0.09265545895311562, kernel=linear ...\n",
      "[CV]  C=97392.81883041795, gamma=0.09265545895311562, kernel=linear, total=  48.9s\n",
      "[CV] C=2423.0759984939164, gamma=3.248614270240346, kernel=linear ....\n",
      "[CV]  C=97392.81883041795, gamma=0.09265545895311562, kernel=linear, total= 1.7min\n",
      "[CV] C=2423.0759984939164, gamma=3.248614270240346, kernel=linear ....\n",
      "[CV]  C=97392.81883041795, gamma=0.09265545895311562, kernel=linear, total= 1.0min\n",
      "[CV] C=2423.0759984939164, gamma=3.248614270240346, kernel=linear ....\n",
      "[CV]  C=2423.0759984939164, gamma=3.248614270240346, kernel=linear, total=  14.9s\n",
      "[CV] C=2423.0759984939164, gamma=3.248614270240346, kernel=linear ....\n",
      "[CV]  C=2423.0759984939164, gamma=3.248614270240346, kernel=linear, total=  15.1s\n",
      "[CV] C=2423.0759984939164, gamma=3.248614270240346, kernel=linear ....\n",
      "[CV]  C=2423.0759984939164, gamma=3.248614270240346, kernel=linear, total=  14.6s\n",
      "[CV] C=717.3632997255095, gamma=0.3165604432088257, kernel=linear ....\n",
      "[CV]  C=2423.0759984939164, gamma=3.248614270240346, kernel=linear, total=  14.7s\n",
      "[CV] C=717.3632997255095, gamma=0.3165604432088257, kernel=linear ....\n",
      "[CV]  C=2423.0759984939164, gamma=3.248614270240346, kernel=linear, total=  14.0s\n",
      "[CV] C=717.3632997255095, gamma=0.3165604432088257, kernel=linear ....\n",
      "[CV]  C=151136.20282548846, gamma=1.4922453771381408, kernel=rbf, total= 3.7min\n",
      "[CV] C=717.3632997255095, gamma=0.3165604432088257, kernel=linear ....\n",
      "[CV]  C=717.3632997255095, gamma=0.3165604432088257, kernel=linear, total=  14.2s\n",
      "[CV] C=717.3632997255095, gamma=0.3165604432088257, kernel=linear ....\n",
      "[CV]  C=717.3632997255095, gamma=0.3165604432088257, kernel=linear, total=  14.1s\n",
      "[CV] C=4446.667521184072, gamma=3.3597284456608496, kernel=rbf .......\n",
      "[CV]  C=717.3632997255095, gamma=0.3165604432088257, kernel=linear, total=  14.4s\n",
      "[CV] C=4446.667521184072, gamma=3.3597284456608496, kernel=rbf .......\n",
      "[CV]  C=717.3632997255095, gamma=0.3165604432088257, kernel=linear, total=  14.7s\n",
      "[CV] C=4446.667521184072, gamma=3.3597284456608496, kernel=rbf .......\n",
      "[CV]  C=717.3632997255095, gamma=0.3165604432088257, kernel=linear, total=  14.0s\n",
      "[CV] C=4446.667521184072, gamma=3.3597284456608496, kernel=rbf .......\n",
      "[CV]  C=4446.667521184072, gamma=3.3597284456608496, kernel=rbf, total=  20.0s\n",
      "[CV] C=4446.667521184072, gamma=3.3597284456608496, kernel=rbf .......\n",
      "[CV]  C=4446.667521184072, gamma=3.3597284456608496, kernel=rbf, total=  20.0s\n",
      "[CV] C=2963.564121207815, gamma=0.15189814782062885, kernel=linear ...\n",
      "[CV]  C=4446.667521184072, gamma=3.3597284456608496, kernel=rbf, total=  20.0s\n",
      "[CV] C=2963.564121207815, gamma=0.15189814782062885, kernel=linear ...\n",
      "[CV]  C=4446.667521184072, gamma=3.3597284456608496, kernel=rbf, total=  20.1s\n",
      "[CV] C=2963.564121207815, gamma=0.15189814782062885, kernel=linear ...\n",
      "[CV]  C=2963.564121207815, gamma=0.15189814782062885, kernel=linear, total=  15.2s\n",
      "[CV] C=2963.564121207815, gamma=0.15189814782062885, kernel=linear ...\n",
      "[CV]  C=2963.564121207815, gamma=0.15189814782062885, kernel=linear, total=  15.7s\n",
      "[CV] C=2963.564121207815, gamma=0.15189814782062885, kernel=linear ...\n",
      "[CV]  C=4446.667521184072, gamma=3.3597284456608496, kernel=rbf, total=  21.6s\n",
      "[CV] C=91.64267381686706, gamma=0.01575994483585621, kernel=linear ...\n",
      "[CV]  C=2963.564121207815, gamma=0.15189814782062885, kernel=linear, total=  15.8s\n",
      "[CV] C=91.64267381686706, gamma=0.01575994483585621, kernel=linear ...\n",
      "[CV]  C=2963.564121207815, gamma=0.15189814782062885, kernel=linear, total=  15.4s\n",
      "[CV] C=91.64267381686706, gamma=0.01575994483585621, kernel=linear ...\n",
      "[CV]  C=2963.564121207815, gamma=0.15189814782062885, kernel=linear, total=  15.5s\n",
      "[CV] C=91.64267381686706, gamma=0.01575994483585621, kernel=linear ...\n",
      "[CV]  C=91.64267381686706, gamma=0.01575994483585621, kernel=linear, total=  13.8s\n",
      "[CV] C=91.64267381686706, gamma=0.01575994483585621, kernel=linear ...\n",
      "[CV]  C=91.64267381686706, gamma=0.01575994483585621, kernel=linear, total=  14.1s\n",
      "[CV] C=24547.601975705915, gamma=0.22153944050588595, kernel=rbf .....\n",
      "[CV]  C=91.64267381686706, gamma=0.01575994483585621, kernel=linear, total=  14.5s\n",
      "[CV] C=24547.601975705915, gamma=0.22153944050588595, kernel=rbf .....\n",
      "[CV]  C=91.64267381686706, gamma=0.01575994483585621, kernel=linear, total=  14.0s\n",
      "[CV] C=24547.601975705915, gamma=0.22153944050588595, kernel=rbf .....\n",
      "[CV]  C=91.64267381686706, gamma=0.01575994483585621, kernel=linear, total=  13.7s\n",
      "[CV] C=24547.601975705915, gamma=0.22153944050588595, kernel=rbf .....\n",
      "[CV]  C=24547.601975705915, gamma=0.22153944050588595, kernel=rbf, total=  19.2s\n",
      "[CV] C=24547.601975705915, gamma=0.22153944050588595, kernel=rbf .....\n"
     ]
    },
    {
     "name": "stdout",
     "output_type": "stream",
     "text": [
      "[CV]  C=24547.601975705915, gamma=0.22153944050588595, kernel=rbf, total=  18.0s\n",
      "[CV] C=22.76927941060928, gamma=0.22169760231351215, kernel=rbf ......\n",
      "[CV]  C=24547.601975705915, gamma=0.22153944050588595, kernel=rbf, total=  17.9s\n",
      "[CV] C=22.76927941060928, gamma=0.22169760231351215, kernel=rbf ......\n",
      "[CV]  C=24547.601975705915, gamma=0.22153944050588595, kernel=rbf, total=  17.7s\n",
      "[CV] C=22.76927941060928, gamma=0.22169760231351215, kernel=rbf ......\n",
      "[CV]  C=24547.601975705915, gamma=0.22153944050588595, kernel=rbf, total=  17.5s\n",
      "[CV] C=22.76927941060928, gamma=0.22169760231351215, kernel=rbf ......\n",
      "[CV]  C=22.76927941060928, gamma=0.22169760231351215, kernel=rbf, total=  17.3s\n",
      "[CV] C=22.76927941060928, gamma=0.22169760231351215, kernel=rbf ......\n",
      "[CV]  C=22.76927941060928, gamma=0.22169760231351215, kernel=rbf, total=  17.5s\n",
      "[CV] C=16483.850529752886, gamma=1.4752145260435134, kernel=linear ...\n",
      "[CV]  C=22.76927941060928, gamma=0.22169760231351215, kernel=rbf, total=  17.5s\n",
      "[CV] C=16483.850529752886, gamma=1.4752145260435134, kernel=linear ...\n",
      "[CV]  C=22.76927941060928, gamma=0.22169760231351215, kernel=rbf, total=  17.8s\n",
      "[CV] C=16483.850529752886, gamma=1.4752145260435134, kernel=linear ...\n",
      "[CV]  C=22.76927941060928, gamma=0.22169760231351215, kernel=rbf, total=  18.4s\n",
      "[CV] C=16483.850529752886, gamma=1.4752145260435134, kernel=linear ...\n",
      "[CV]  C=16483.850529752886, gamma=1.4752145260435134, kernel=linear, total=  21.6s\n",
      "[CV] C=16483.850529752886, gamma=1.4752145260435134, kernel=linear ...\n",
      "[CV]  C=16483.850529752886, gamma=1.4752145260435134, kernel=linear, total=  23.0s\n",
      "[CV] C=101445.66881340064, gamma=1.052904084582266, kernel=rbf .......\n",
      "[CV]  C=16483.850529752886, gamma=1.4752145260435134, kernel=linear, total=  22.7s\n",
      "[CV] C=101445.66881340064, gamma=1.052904084582266, kernel=rbf .......\n",
      "[CV]  C=16483.850529752886, gamma=1.4752145260435134, kernel=linear, total=  23.1s\n",
      "[CV] C=101445.66881340064, gamma=1.052904084582266, kernel=rbf .......\n"
     ]
    },
    {
     "name": "stderr",
     "output_type": "stream",
     "text": [
      "[Parallel(n_jobs=4)]: Done 154 tasks      | elapsed: 25.7min\n"
     ]
    },
    {
     "name": "stdout",
     "output_type": "stream",
     "text": [
      "[CV]  C=16483.850529752886, gamma=1.4752145260435134, kernel=linear, total=  19.6s\n",
      "[CV] C=101445.66881340064, gamma=1.052904084582266, kernel=rbf .......\n",
      "[CV]  C=101445.66881340064, gamma=1.052904084582266, kernel=rbf, total= 1.4min\n",
      "[CV] C=101445.66881340064, gamma=1.052904084582266, kernel=rbf .......\n",
      "[CV]  C=101445.66881340064, gamma=1.052904084582266, kernel=rbf, total= 1.4min\n",
      "[CV] C=56681.80859029545, gamma=0.9763011917123741, kernel=rbf .......\n",
      "[CV]  C=101445.66881340064, gamma=1.052904084582266, kernel=rbf, total= 1.8min\n",
      "[CV] C=56681.80859029545, gamma=0.9763011917123741, kernel=rbf .......\n",
      "[CV]  C=101445.66881340064, gamma=1.052904084582266, kernel=rbf, total= 1.9min\n",
      "[CV] C=56681.80859029545, gamma=0.9763011917123741, kernel=rbf .......\n",
      "[CV]  C=56681.80859029545, gamma=0.9763011917123741, kernel=rbf, total=  36.7s\n",
      "[CV] C=56681.80859029545, gamma=0.9763011917123741, kernel=rbf .......\n",
      "[CV]  C=56681.80859029545, gamma=0.9763011917123741, kernel=rbf, total=  36.9s\n",
      "[CV] C=56681.80859029545, gamma=0.9763011917123741, kernel=rbf .......\n",
      "[CV]  C=56681.80859029545, gamma=0.9763011917123741, kernel=rbf, total=  35.5s\n",
      "[CV] C=48.15822390928914, gamma=0.4633351167983427, kernel=rbf .......\n",
      "[CV]  C=56681.80859029545, gamma=0.9763011917123741, kernel=rbf, total=  41.6s\n",
      "[CV] C=48.15822390928914, gamma=0.4633351167983427, kernel=rbf .......\n",
      "[CV]  C=101445.66881340064, gamma=1.052904084582266, kernel=rbf, total= 1.6min\n",
      "[CV] C=48.15822390928914, gamma=0.4633351167983427, kernel=rbf .......\n",
      "[CV]  C=48.15822390928914, gamma=0.4633351167983427, kernel=rbf, total=  16.7s\n",
      "[CV] C=48.15822390928914, gamma=0.4633351167983427, kernel=rbf .......\n",
      "[CV]  C=48.15822390928914, gamma=0.4633351167983427, kernel=rbf, total=  16.4s\n",
      "[CV] C=48.15822390928914, gamma=0.4633351167983427, kernel=rbf .......\n",
      "[CV]  C=48.15822390928914, gamma=0.4633351167983427, kernel=rbf, total=  16.3s\n",
      "[CV] C=399.7268155705774, gamma=1.3078757839577408, kernel=rbf .......\n",
      "[CV]  C=56681.80859029545, gamma=0.9763011917123741, kernel=rbf, total=  40.4s\n",
      "[CV] C=399.7268155705774, gamma=1.3078757839577408, kernel=rbf .......\n",
      "[CV]  C=48.15822390928914, gamma=0.4633351167983427, kernel=rbf, total=  17.3s\n",
      "[CV] C=399.7268155705774, gamma=1.3078757839577408, kernel=rbf .......\n",
      "[CV]  C=48.15822390928914, gamma=0.4633351167983427, kernel=rbf, total=  17.4s\n",
      "[CV] C=399.7268155705774, gamma=1.3078757839577408, kernel=rbf .......\n",
      "[CV]  C=399.7268155705774, gamma=1.3078757839577408, kernel=rbf, total=  17.2s\n",
      "[CV] C=399.7268155705774, gamma=1.3078757839577408, kernel=rbf .......\n",
      "[CV]  C=399.7268155705774, gamma=1.3078757839577408, kernel=rbf, total=  16.8s\n",
      "[CV] C=251.14073886281363, gamma=0.8238105204914145, kernel=linear ...\n",
      "[CV]  C=399.7268155705774, gamma=1.3078757839577408, kernel=rbf, total=  16.5s\n",
      "[CV] C=251.14073886281363, gamma=0.8238105204914145, kernel=linear ...\n",
      "[CV]  C=399.7268155705774, gamma=1.3078757839577408, kernel=rbf, total=  16.9s\n",
      "[CV] C=251.14073886281363, gamma=0.8238105204914145, kernel=linear ...\n",
      "[CV]  C=399.7268155705774, gamma=1.3078757839577408, kernel=rbf, total=  16.9s\n",
      "[CV] C=251.14073886281363, gamma=0.8238105204914145, kernel=linear ...\n",
      "[CV]  C=251.14073886281363, gamma=0.8238105204914145, kernel=linear, total=  12.6s\n",
      "[CV] C=251.14073886281363, gamma=0.8238105204914145, kernel=linear ...\n",
      "[CV]  C=251.14073886281363, gamma=0.8238105204914145, kernel=linear, total=  13.9s\n",
      "[CV] C=60.17373642891687, gamma=1.2491263443165994, kernel=linear ....\n",
      "[CV]  C=251.14073886281363, gamma=0.8238105204914145, kernel=linear, total=  14.5s\n",
      "[CV] C=60.17373642891687, gamma=1.2491263443165994, kernel=linear ....\n",
      "[CV]  C=251.14073886281363, gamma=0.8238105204914145, kernel=linear, total=  14.5s\n",
      "[CV] C=60.17373642891687, gamma=1.2491263443165994, kernel=linear ....\n",
      "[CV]  C=251.14073886281363, gamma=0.8238105204914145, kernel=linear, total=  14.3s\n",
      "[CV] C=60.17373642891687, gamma=1.2491263443165994, kernel=linear ....\n",
      "[CV]  C=60.17373642891687, gamma=1.2491263443165994, kernel=linear, total=  14.8s\n",
      "[CV] C=60.17373642891687, gamma=1.2491263443165994, kernel=linear ....\n",
      "[CV]  C=60.17373642891687, gamma=1.2491263443165994, kernel=linear, total=  14.4s\n",
      "[CV] C=15415.161544891856, gamma=0.2691677514619319, kernel=rbf ......\n",
      "[CV]  C=60.17373642891687, gamma=1.2491263443165994, kernel=linear, total=  14.6s\n",
      "[CV] C=15415.161544891856, gamma=0.2691677514619319, kernel=rbf ......\n",
      "[CV]  C=60.17373642891687, gamma=1.2491263443165994, kernel=linear, total=  14.4s\n",
      "[CV] C=15415.161544891856, gamma=0.2691677514619319, kernel=rbf ......\n",
      "[CV]  C=60.17373642891687, gamma=1.2491263443165994, kernel=linear, total=  14.0s\n",
      "[CV] C=15415.161544891856, gamma=0.2691677514619319, kernel=rbf ......\n",
      "[CV]  C=15415.161544891856, gamma=0.2691677514619319, kernel=rbf, total=  18.3s\n",
      "[CV] C=15415.161544891856, gamma=0.2691677514619319, kernel=rbf ......\n",
      "[CV]  C=15415.161544891856, gamma=0.2691677514619319, kernel=rbf, total=  18.3s\n",
      "[CV] C=1888.9148509967113, gamma=0.739678838777267, kernel=linear ....\n",
      "[CV]  C=15415.161544891856, gamma=0.2691677514619319, kernel=rbf, total=  18.4s\n",
      "[CV] C=1888.9148509967113, gamma=0.739678838777267, kernel=linear ....\n",
      "[CV]  C=15415.161544891856, gamma=0.2691677514619319, kernel=rbf, total=  17.7s\n",
      "[CV] C=1888.9148509967113, gamma=0.739678838777267, kernel=linear ....\n",
      "[CV]  C=1888.9148509967113, gamma=0.739678838777267, kernel=linear, total=  14.7s\n",
      "[CV] C=1888.9148509967113, gamma=0.739678838777267, kernel=linear ....\n",
      "[CV]  C=1888.9148509967113, gamma=0.739678838777267, kernel=linear, total=  14.7s\n",
      "[CV] C=1888.9148509967113, gamma=0.739678838777267, kernel=linear ....\n",
      "[CV]  C=15415.161544891856, gamma=0.2691677514619319, kernel=rbf, total=  18.4s\n",
      "[CV] C=55.53838911232773, gamma=0.578634378499143, kernel=linear .....\n",
      "[CV]  C=1888.9148509967113, gamma=0.739678838777267, kernel=linear, total=  15.0s\n",
      "[CV] C=55.53838911232773, gamma=0.578634378499143, kernel=linear .....\n",
      "[CV]  C=1888.9148509967113, gamma=0.739678838777267, kernel=linear, total=  15.2s\n",
      "[CV] C=55.53838911232773, gamma=0.578634378499143, kernel=linear .....\n",
      "[CV]  C=1888.9148509967113, gamma=0.739678838777267, kernel=linear, total=  15.2s\n",
      "[CV] C=55.53838911232773, gamma=0.578634378499143, kernel=linear .....\n",
      "[CV]  C=55.53838911232773, gamma=0.578634378499143, kernel=linear, total=  14.4s\n",
      "[CV] C=55.53838911232773, gamma=0.578634378499143, kernel=linear .....\n",
      "[CV]  C=55.53838911232773, gamma=0.578634378499143, kernel=linear, total=  14.4s\n",
      "[CV] C=26.714480823948186, gamma=1.0117295509275495, kernel=rbf ......\n",
      "[CV]  C=55.53838911232773, gamma=0.578634378499143, kernel=linear, total=  14.2s\n",
      "[CV] C=26.714480823948186, gamma=1.0117295509275495, kernel=rbf ......\n",
      "[CV]  C=55.53838911232773, gamma=0.578634378499143, kernel=linear, total=  14.1s\n",
      "[CV] C=26.714480823948186, gamma=1.0117295509275495, kernel=rbf ......\n",
      "[CV]  C=55.53838911232773, gamma=0.578634378499143, kernel=linear, total=  14.2s\n",
      "[CV] C=26.714480823948186, gamma=1.0117295509275495, kernel=rbf ......\n",
      "[CV]  C=26.714480823948186, gamma=1.0117295509275495, kernel=rbf, total=  18.4s\n",
      "[CV] C=26.714480823948186, gamma=1.0117295509275495, kernel=rbf ......\n",
      "[CV]  C=26.714480823948186, gamma=1.0117295509275495, kernel=rbf, total=  18.0s\n",
      "[CV] C=3582.0552780489566, gamma=1.1891370222133257, kernel=linear ...\n",
      "[CV]  C=26.714480823948186, gamma=1.0117295509275495, kernel=rbf, total=  17.9s\n",
      "[CV] C=3582.0552780489566, gamma=1.1891370222133257, kernel=linear ...\n",
      "[CV]  C=26.714480823948186, gamma=1.0117295509275495, kernel=rbf, total=  17.8s\n",
      "[CV] C=3582.0552780489566, gamma=1.1891370222133257, kernel=linear ...\n",
      "[CV]  C=26.714480823948186, gamma=1.0117295509275495, kernel=rbf, total=  17.7s\n",
      "[CV] C=3582.0552780489566, gamma=1.1891370222133257, kernel=linear ...\n",
      "[CV]  C=3582.0552780489566, gamma=1.1891370222133257, kernel=linear, total=  15.7s\n",
      "[CV] C=3582.0552780489566, gamma=1.1891370222133257, kernel=linear ...\n",
      "[CV]  C=3582.0552780489566, gamma=1.1891370222133257, kernel=linear, total=  16.3s\n",
      "[CV] C=198.7004781812736, gamma=0.5282819748826726, kernel=linear ....\n",
      "[CV]  C=3582.0552780489566, gamma=1.1891370222133257, kernel=linear, total=  16.3s\n",
      "[CV] C=198.7004781812736, gamma=0.5282819748826726, kernel=linear ....\n",
      "[CV]  C=3582.0552780489566, gamma=1.1891370222133257, kernel=linear, total=  16.8s\n"
     ]
    },
    {
     "name": "stdout",
     "output_type": "stream",
     "text": [
      "[CV] C=198.7004781812736, gamma=0.5282819748826726, kernel=linear ....\n",
      "[CV]  C=198.7004781812736, gamma=0.5282819748826726, kernel=linear, total=  14.0s\n",
      "[CV] C=198.7004781812736, gamma=0.5282819748826726, kernel=linear ....\n",
      "[CV]  C=3582.0552780489566, gamma=1.1891370222133257, kernel=linear, total=  16.1s\n",
      "[CV] C=198.7004781812736, gamma=0.5282819748826726, kernel=linear ....\n",
      "[CV]  C=198.7004781812736, gamma=0.5282819748826726, kernel=linear, total=  14.2s\n",
      "[CV] C=129.8000604143307, gamma=2.8621383676481322, kernel=linear ....\n",
      "[CV]  C=198.7004781812736, gamma=0.5282819748826726, kernel=linear, total=  15.0s\n",
      "[CV] C=129.8000604143307, gamma=2.8621383676481322, kernel=linear ....\n",
      "[CV]  C=198.7004781812736, gamma=0.5282819748826726, kernel=linear, total=  14.9s\n",
      "[CV] C=129.8000604143307, gamma=2.8621383676481322, kernel=linear ....\n",
      "[CV]  C=198.7004781812736, gamma=0.5282819748826726, kernel=linear, total=  14.5s\n",
      "[CV] C=129.8000604143307, gamma=2.8621383676481322, kernel=linear ....\n",
      "[CV]  C=129.8000604143307, gamma=2.8621383676481322, kernel=linear, total=  14.7s\n",
      "[CV] C=129.8000604143307, gamma=2.8621383676481322, kernel=linear ....\n",
      "[CV]  C=129.8000604143307, gamma=2.8621383676481322, kernel=linear, total=  15.5s\n",
      "[CV] C=288.4269299593897, gamma=0.17580835850006285, kernel=rbf ......\n",
      "[CV]  C=129.8000604143307, gamma=2.8621383676481322, kernel=linear, total=  15.7s\n",
      "[CV] C=288.4269299593897, gamma=0.17580835850006285, kernel=rbf ......\n",
      "[CV]  C=129.8000604143307, gamma=2.8621383676481322, kernel=linear, total=  15.7s\n",
      "[CV] C=288.4269299593897, gamma=0.17580835850006285, kernel=rbf ......\n",
      "[CV]  C=129.8000604143307, gamma=2.8621383676481322, kernel=linear, total=  15.1s\n",
      "[CV] C=288.4269299593897, gamma=0.17580835850006285, kernel=rbf ......\n",
      "[CV]  C=288.4269299593897, gamma=0.17580835850006285, kernel=rbf, total=  17.5s\n",
      "[CV] C=288.4269299593897, gamma=0.17580835850006285, kernel=rbf ......\n",
      "[CV]  C=288.4269299593897, gamma=0.17580835850006285, kernel=rbf, total=  17.3s\n",
      "[CV] C=6287.039489427171, gamma=0.3504567255332862, kernel=linear ....\n",
      "[CV]  C=288.4269299593897, gamma=0.17580835850006285, kernel=rbf, total=  17.1s\n",
      "[CV] C=6287.039489427171, gamma=0.3504567255332862, kernel=linear ....\n",
      "[CV]  C=288.4269299593897, gamma=0.17580835850006285, kernel=rbf, total=  16.8s\n",
      "[CV] C=6287.039489427171, gamma=0.3504567255332862, kernel=linear ....\n",
      "[CV]  C=6287.039489427171, gamma=0.3504567255332862, kernel=linear, total=  16.8s\n",
      "[CV] C=6287.039489427171, gamma=0.3504567255332862, kernel=linear ....\n",
      "[CV]  C=6287.039489427171, gamma=0.3504567255332862, kernel=linear, total=  16.8s\n",
      "[CV] C=6287.039489427171, gamma=0.3504567255332862, kernel=linear ....\n",
      "[CV]  C=288.4269299593897, gamma=0.17580835850006285, kernel=rbf, total=  17.3s\n",
      "[CV] C=61217.04421344494, gamma=1.6279689407405564, kernel=rbf .......\n",
      "[CV]  C=6287.039489427171, gamma=0.3504567255332862, kernel=linear, total=  17.5s\n",
      "[CV] C=61217.04421344494, gamma=1.6279689407405564, kernel=rbf .......\n",
      "[CV]  C=6287.039489427171, gamma=0.3504567255332862, kernel=linear, total=  16.8s\n",
      "[CV] C=61217.04421344494, gamma=1.6279689407405564, kernel=rbf .......\n",
      "[CV]  C=6287.039489427171, gamma=0.3504567255332862, kernel=linear, total=  16.2s\n",
      "[CV] C=61217.04421344494, gamma=1.6279689407405564, kernel=rbf .......\n",
      "[CV]  C=61217.04421344494, gamma=1.6279689407405564, kernel=rbf, total= 1.1min\n",
      "[CV] C=61217.04421344494, gamma=1.6279689407405564, kernel=rbf .......\n",
      "[CV]  C=61217.04421344494, gamma=1.6279689407405564, kernel=rbf, total= 1.3min\n",
      "[CV] C=926.9787684096649, gamma=2.147979593060577, kernel=rbf ........\n",
      "[CV]  C=61217.04421344494, gamma=1.6279689407405564, kernel=rbf, total= 1.2min\n",
      "[CV] C=926.9787684096649, gamma=2.147979593060577, kernel=rbf ........\n",
      "[CV]  C=61217.04421344494, gamma=1.6279689407405564, kernel=rbf, total= 1.2min\n",
      "[CV] C=926.9787684096649, gamma=2.147979593060577, kernel=rbf ........\n",
      "[CV]  C=926.9787684096649, gamma=2.147979593060577, kernel=rbf, total=  18.6s\n",
      "[CV] C=926.9787684096649, gamma=2.147979593060577, kernel=rbf ........\n",
      "[CV]  C=926.9787684096649, gamma=2.147979593060577, kernel=rbf, total=  18.2s\n",
      "[CV] C=926.9787684096649, gamma=2.147979593060577, kernel=rbf ........\n",
      "[CV]  C=926.9787684096649, gamma=2.147979593060577, kernel=rbf, total=  18.2s\n",
      "[CV] C=33946.157064934, gamma=2.2642426492862313, kernel=linear ......\n",
      "[CV]  C=926.9787684096649, gamma=2.147979593060577, kernel=rbf, total=  19.1s\n",
      "[CV] C=33946.157064934, gamma=2.2642426492862313, kernel=linear ......\n",
      "[CV]  C=61217.04421344494, gamma=1.6279689407405564, kernel=rbf, total= 1.2min\n",
      "[CV] C=33946.157064934, gamma=2.2642426492862313, kernel=linear ......\n",
      "[CV]  C=926.9787684096649, gamma=2.147979593060577, kernel=rbf, total=  18.8s\n",
      "[CV] C=33946.157064934, gamma=2.2642426492862313, kernel=linear ......\n",
      "[CV]  C=33946.157064934, gamma=2.2642426492862313, kernel=linear, total=  35.0s\n",
      "[CV] C=33946.157064934, gamma=2.2642426492862313, kernel=linear ......\n",
      "[CV]  C=33946.157064934, gamma=2.2642426492862313, kernel=linear, total=  33.8s\n",
      "[CV] C=84789.82947739525, gamma=0.3176359085304841, kernel=linear ....\n",
      "[CV]  C=33946.157064934, gamma=2.2642426492862313, kernel=linear, total=  31.4s\n",
      "[CV] C=84789.82947739525, gamma=0.3176359085304841, kernel=linear ....\n",
      "[CV]  C=33946.157064934, gamma=2.2642426492862313, kernel=linear, total=  35.4s\n",
      "[CV] C=84789.82947739525, gamma=0.3176359085304841, kernel=linear ....\n",
      "[CV]  C=33946.157064934, gamma=2.2642426492862313, kernel=linear, total=  32.5s\n",
      "[CV] C=84789.82947739525, gamma=0.3176359085304841, kernel=linear ....\n",
      "[CV]  C=84789.82947739525, gamma=0.3176359085304841, kernel=linear, total=  57.3s\n",
      "[CV] C=84789.82947739525, gamma=0.3176359085304841, kernel=linear ....\n",
      "[CV]  C=84789.82947739525, gamma=0.3176359085304841, kernel=linear, total= 1.4min\n",
      "[CV]  C=84789.82947739525, gamma=0.3176359085304841, kernel=linear, total=  59.6s\n",
      "[CV]  C=84789.82947739525, gamma=0.3176359085304841, kernel=linear, total= 1.4min\n",
      "[CV]  C=84789.82947739525, gamma=0.3176359085304841, kernel=linear, total=  34.3s\n"
     ]
    },
    {
     "name": "stderr",
     "output_type": "stream",
     "text": [
      "[Parallel(n_jobs=4)]: Done 250 out of 250 | elapsed: 39.9min finished\n"
     ]
    },
    {
     "data": {
      "text/plain": [
       "RandomizedSearchCV(cv=5, error_score='raise',\n",
       "          estimator=SVR(C=1.0, cache_size=200, coef0=0.0, degree=3, epsilon=0.1, gamma='auto',\n",
       "  kernel='rbf', max_iter=-1, shrinking=True, tol=0.001, verbose=False),\n",
       "          fit_params=None, iid=True, n_iter=50, n_jobs=4,\n",
       "          param_distributions={'kernel': ['linear', 'rbf'], 'C': <scipy.stats._distn_infrastructure.rv_frozen object at 0x11e5af978>, 'gamma': <scipy.stats._distn_infrastructure.rv_frozen object at 0x11e5af550>},\n",
       "          pre_dispatch='2*n_jobs', random_state=42, refit=True,\n",
       "          return_train_score='warn', scoring='neg_mean_squared_error',\n",
       "          verbose=2)"
      ]
     },
     "execution_count": 22,
     "metadata": {},
     "output_type": "execute_result"
    }
   ],
   "source": [
    "# the following code is referring to the author's solution\n",
    "# https://github.com/ageron/handson-ml/blob/master/02_end_to_end_machine_learning_project.ipynb\n",
    "\n",
    "from scipy.stats import expon, reciprocal\n",
    "\n",
    "param_distribs = {\n",
    "    'kernel':['linear', 'rbf'],\n",
    "    'C': reciprocal(20, 200000),\n",
    "    'gamma': expon(scale=1.0)\n",
    "}\n",
    "\n",
    "svm_reg = SVR()\n",
    "rnd_search = RandomizedSearchCV(svm_reg, param_distributions=param_distribs,\n",
    "                                n_iter=50, cv=5, scoring='neg_mean_squared_error',\n",
    "                                verbose=2, n_jobs=4, random_state=42)\n",
    "rnd_search.fit(housing_prepared, housing_labels)"
   ]
  },
  {
   "cell_type": "code",
   "execution_count": 23,
   "metadata": {},
   "outputs": [
    {
     "data": {
      "text/plain": [
       "54767.99053704408"
      ]
     },
     "execution_count": 23,
     "metadata": {},
     "output_type": "execute_result"
    }
   ],
   "source": [
    "np.sqrt(-rnd_search.best_score_)"
   ]
  },
  {
   "cell_type": "code",
   "execution_count": 24,
   "metadata": {},
   "outputs": [
    {
     "data": {
      "text/plain": [
       "{'C': 157055.10989448498, 'gamma': 0.26497040005002437, 'kernel': 'rbf'}"
      ]
     },
     "execution_count": 24,
     "metadata": {},
     "output_type": "execute_result"
    }
   ],
   "source": [
    "rnd_search.best_params_"
   ]
  },
  {
   "cell_type": "markdown",
   "metadata": {},
   "source": [
    "### 3. Try adding a transformer in the preparation pipeline to select only the most important attributes."
   ]
  },
  {
   "cell_type": "markdown",
   "metadata": {},
   "source": [
    "### 4. Try creating a single pipeline that does the full data preparation plus the final prediction."
   ]
  },
  {
   "cell_type": "markdown",
   "metadata": {},
   "source": [
    "### 5. Automatically explore some preparation options using `GridSearchCV`."
   ]
  },
  {
   "cell_type": "code",
   "execution_count": null,
   "metadata": {},
   "outputs": [],
   "source": []
  }
 ],
 "metadata": {
  "kernelspec": {
   "display_name": "Python 3",
   "language": "python",
   "name": "python3"
  },
  "language_info": {
   "codemirror_mode": {
    "name": "ipython",
    "version": 3
   },
   "file_extension": ".py",
   "mimetype": "text/x-python",
   "name": "python",
   "nbconvert_exporter": "python",
   "pygments_lexer": "ipython3",
   "version": "3.6.3"
  }
 },
 "nbformat": 4,
 "nbformat_minor": 2
}
